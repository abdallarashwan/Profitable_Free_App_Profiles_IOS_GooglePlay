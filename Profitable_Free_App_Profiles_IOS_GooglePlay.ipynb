{
 "cells": [
  {
   "cell_type": "markdown",
   "metadata": {},
   "source": [
    "# Profitable Free App Profiles on App Store and Google Play.\n",
    "\n",
    "In this project we aim to find the main characterstics of the most profitable apps on Apple Store and Google Play.\n",
    "For apps that are free to download and install, the main source of revenue is the in-app ads which means that the number of users dirrectely influences the profite.\n",
    "\n",
    "We are going to analyze the data in order to know which apps are more appealing to users, hence: attracts the highest number of users."
   ]
  },
  {
   "cell_type": "markdown",
   "metadata": {},
   "source": [
    "# Previewing the Data\n",
    "\n",
    "Due to the large number of apps on both the Apple Store and Google Play, we are going to use sample data which are already availavle for free in order to save time and resources collecting new data ourselves.\n",
    "\n",
    "Following are the two datasets that are suitable for this project:\n",
    "\n",
    "- [Apple IOS App Store](https://www.kaggle.com/ramamet4/app-store-apple-data-set-10k-apps): which contains data about 7000 apps on the Apple Store, the dataset can be downloaded [here](https://www.kaggle.com/ramamet4/app-store-apple-data-set-10k-apps/download).\n",
    "- [Google Play Store Apps](https://www.kaggle.com/lava18/google-play-store-apps): which contains data about 9660 apps on the Google Play Store, the dataset can be downloaded [here](https://www.kaggle.com/lava18/google-play-store-apps/download).\n",
    "The datasets can be downloaded locally as csv files.\n",
    "\n",
    "First, we start by opening the two csv files and save the data as list of lists with help of `reader()` function and then assign the headers and data to two variables for each dataset:"
   ]
  },
  {
   "cell_type": "code",
   "execution_count": 1,
   "metadata": {},
   "outputs": [],
   "source": [
    "from csv import reader\n",
    "\n",
    "opened_file = open(\"/Users/abdallarashwan/Documents/Python Projects/Datasets/AppleStore/AppleStore.csv\") #Using absolute path of the downloaded data set\n",
    "read_file = reader(opened_file)\n",
    "apple = list(read_file)\n",
    "apple_header = apple[0]\n",
    "apple_data = apple[1:]\n",
    "\n",
    "opened_file = open(\"/Users/abdallarashwan/Documents/Python Projects/Datasets/GooglePlay/googleplaystore.csv\") #Using absolute path of the downloaded data set\n",
    "read_file = reader(opened_file)\n",
    "google = list(read_file)\n",
    "google_header = google[0]\n",
    "google_data = google[1:]\n"
   ]
  },
  {
   "cell_type": "markdown",
   "metadata": {},
   "source": [
    "Following, we define a simple function that can help us explore our data in a more efficient and reliable way.\n",
    "\n",
    "The function `explore_dataset()` has the following arguments:\n",
    "- dataset: which is the list of lists containing the data we want to explore.\n",
    "- start_index: index of the first row of data we want to review.\n",
    "- end_index: index of the last row of data we want to review (inclusive!).\n",
    "- rows_and_columns: boolean that defaultes to False, in case True: print totall number of rowns and columns."
   ]
  },
  {
   "cell_type": "code",
   "execution_count": 2,
   "metadata": {},
   "outputs": [],
   "source": [
    "def explore_dataset(dataset, start_index, end_index, rows_and_columns = False):\n",
    "    dataset_section = dataset[start_index:end_index]\n",
    "    for row in dataset_section:\n",
    "        print(row)\n",
    "        print('\\n')\n",
    "        \n",
    "    if rows_and_columns:\n",
    "        print(\"Number of rows: \",len(dataset))\n",
    "        print(\"Number of columns: \",len(dataset[0]))"
   ]
  },
  {
   "cell_type": "markdown",
   "metadata": {},
   "source": [
    "Now let us see the column names in order to have a better understanding of our data.\n",
    "\n",
    "Following we print the header for the Google Store data and three rows of data:"
   ]
  },
  {
   "cell_type": "code",
   "execution_count": 3,
   "metadata": {},
   "outputs": [
    {
     "name": "stdout",
     "output_type": "stream",
     "text": [
      "['App', 'Category', 'Rating', 'Reviews', 'Size', 'Installs', 'Type', 'Price', 'Content Rating', 'Genres', 'Last Updated', 'Current Ver', 'Android Ver']\n",
      "\n",
      "\n",
      "['Photo Editor & Candy Camera & Grid & ScrapBook', 'ART_AND_DESIGN', '4.1', '159', '19M', '10,000+', 'Free', '0', 'Everyone', 'Art & Design', 'January 7, 2018', '1.0.0', '4.0.3 and up']\n",
      "\n",
      "\n",
      "['Coloring book moana', 'ART_AND_DESIGN', '3.9', '967', '14M', '500,000+', 'Free', '0', 'Everyone', 'Art & Design;Pretend Play', 'January 15, 2018', '2.0.0', '4.0.3 and up']\n",
      "\n",
      "\n",
      "['U Launcher Lite – FREE Live Cool Themes, Hide Apps', 'ART_AND_DESIGN', '4.7', '87510', '8.7M', '5,000,000+', 'Free', '0', 'Everyone', 'Art & Design', 'August 1, 2018', '1.2.4', '4.0.3 and up']\n",
      "\n",
      "\n",
      "Number of rows:  10841\n",
      "Number of columns:  13\n"
     ]
    }
   ],
   "source": [
    "print(google_header)\n",
    "print('\\n')\n",
    "explore_dataset(google_data, 0 , 3 , True)"
   ]
  },
  {
   "cell_type": "markdown",
   "metadata": {},
   "source": [
    "Similarly for the Apple Store data."
   ]
  },
  {
   "cell_type": "code",
   "execution_count": 4,
   "metadata": {},
   "outputs": [
    {
     "name": "stdout",
     "output_type": "stream",
     "text": [
      "['', 'id', 'track_name', 'size_bytes', 'currency', 'price', 'rating_count_tot', 'rating_count_ver', 'user_rating', 'user_rating_ver', 'ver', 'cont_rating', 'prime_genre', 'sup_devices.num', 'ipadSc_urls.num', 'lang.num', 'vpp_lic']\n",
      "\n",
      "\n",
      "['1', '281656475', 'PAC-MAN Premium', '100788224', 'USD', '3.99', '21292', '26', '4', '4.5', '6.3.5', '4+', 'Games', '38', '5', '10', '1']\n",
      "\n",
      "\n",
      "['2', '281796108', 'Evernote - stay organized', '158578688', 'USD', '0', '161065', '26', '4', '3.5', '8.2.2', '4+', 'Productivity', '37', '5', '23', '1']\n",
      "\n",
      "\n",
      "['3', '281940292', 'WeatherBug - Local Weather, Radar, Maps, Alerts', '100524032', 'USD', '0', '188583', '2822', '3.5', '4.5', '5.0.0', '4+', 'Weather', '37', '5', '3', '1']\n",
      "\n",
      "\n",
      "Number of rows:  7197\n",
      "Number of columns:  17\n"
     ]
    }
   ],
   "source": [
    "print(apple_header)\n",
    "print('\\n')\n",
    "explore_dataset(apple_data , 0 , 3 , True)"
   ]
  },
  {
   "cell_type": "markdown",
   "metadata": {},
   "source": [
    "For more information about the columns and their description please refer to this [link](https://www.kaggle.com/lava18/google-play-store-apps) for the Google Play dataset and this [link](https://www.kaggle.com/ramamet4/app-store-apple-data-set-10k-apps) for the Apple IOS dataset.\n",
    "\n",
    "Following are the relevant columns for our analysis:\n",
    "- Google Play Store: `App`, `Category`, `Reviews`, `Installs`, `Type`, `Price`, and `Genres`.\n",
    "- Apple IOS App Store: `track_name`, `currency`, `price`, `rating_count_tot`, `rating_count_ver`, and `prime_genre`."
   ]
  },
  {
   "cell_type": "markdown",
   "metadata": {},
   "source": [
    "# Data Cleaning\n",
    "\n",
    "In this step we clean our data by removing any wrong, duplicate or unneeded data.\n",
    "\n",
    "## Checking for Values Out of Expected Range\n",
    "\n",
    "For some of the columns we know the range of values that we expect to find for each app (row in the dataset).\n",
    "\n",
    "Following we check for such wrong data by getting the maximum and minimum values for such columns to make sure it all existes within expected ranges.\n",
    "\n",
    "Next, we implement the `min_max_col()` function which takes the following arguments:\n",
    "- dataset: the dataset which we wish to check.\n",
    "- col_index: index of the column to check in the dataset.\n",
    "\n",
    "OUTPUT: the function prints the min and max values found for a specific column together with their respective index in the dataset (index of the row which contains those values).\n"
   ]
  },
  {
   "cell_type": "code",
   "execution_count": 5,
   "metadata": {},
   "outputs": [],
   "source": [
    "def min_max_col(dataset, col_index):\n",
    "    min_val = float(dataset[0][col_index])\n",
    "    max_index = 0\n",
    "    max_val = float(dataset[0][col_index])\n",
    "    min_index = 0\n",
    "    for row in dataset:\n",
    "        if float(row[col_index]) > max_val:\n",
    "            max_val = float(row[col_index])\n",
    "            max_index = dataset.index(row)\n",
    "        elif float(row[col_index]) < min_val:\n",
    "            min_val = float(row[col_index])\n",
    "            min_index = dataset.index(row)\n",
    "    print(\"max value: \", max_val)\n",
    "    print(\"Index of max value: \", max_index)\n",
    "    print(\"min value: \",min_val)\n",
    "    print(\"Index of min value: \", min_index)"
   ]
  },
  {
   "cell_type": "markdown",
   "metadata": {},
   "source": [
    "### Step 1:\n",
    "\n",
    "Now we use the previously defined function to find the min and max values for the `Rating` column in the Google Store App dataset.\n",
    "\n",
    "- The `Rating` column has index 2.\n",
    "- The range of values should be between 1.0 and 5.0 for ratings."
   ]
  },
  {
   "cell_type": "code",
   "execution_count": 6,
   "metadata": {},
   "outputs": [
    {
     "name": "stdout",
     "output_type": "stream",
     "text": [
      "max value:  19.0\n",
      "Index of max value:  10472\n",
      "min value:  1.0\n",
      "Index of min value:  625\n"
     ]
    }
   ],
   "source": [
    "min_max_col(google_data, 2)"
   ]
  },
  {
   "cell_type": "markdown",
   "metadata": {},
   "source": [
    "As we can see, the rating for the app with index 10472 is larger than the expected range which means that it's wrong and should be deleted from our data.\n",
    "\n",
    "We delete the row with index 10472 as follows:"
   ]
  },
  {
   "cell_type": "code",
   "execution_count": 7,
   "metadata": {},
   "outputs": [],
   "source": [
    "del google_data[10472]    "
   ]
  },
  {
   "cell_type": "markdown",
   "metadata": {},
   "source": [
    "Now let's check again to make sure no other wrong values exist."
   ]
  },
  {
   "cell_type": "code",
   "execution_count": 8,
   "metadata": {},
   "outputs": [
    {
     "name": "stdout",
     "output_type": "stream",
     "text": [
      "max value:  5.0\n",
      "Index of max value:  329\n",
      "min value:  1.0\n",
      "Index of min value:  625\n"
     ]
    }
   ],
   "source": [
    "min_max_col(google_data, 2)"
   ]
  },
  {
   "cell_type": "markdown",
   "metadata": {},
   "source": [
    "As we can see, all values are now within expected range.\n",
    "\n",
    "Similarly, we check the `user_rating` column in the Apple IOS dataset.\n",
    "- the index of the column is 8.\n",
    "- the range of values should be between 0.0 and 5.0"
   ]
  },
  {
   "cell_type": "code",
   "execution_count": 9,
   "metadata": {},
   "outputs": [
    {
     "name": "stdout",
     "output_type": "stream",
     "text": [
      "max value:  5.0\n",
      "Index of max value:  21\n",
      "min value:  0.0\n",
      "Index of min value:  199\n"
     ]
    }
   ],
   "source": [
    "min_max_col(apple_data, 8)"
   ]
  },
  {
   "cell_type": "markdown",
   "metadata": {},
   "source": [
    "All values are within limits."
   ]
  },
  {
   "cell_type": "markdown",
   "metadata": {},
   "source": [
    "## Checking for Duplicate Data\n",
    "\n",
    "Following we check for number of unique and duplicate data in the Google Store data set."
   ]
  },
  {
   "cell_type": "code",
   "execution_count": 10,
   "metadata": {},
   "outputs": [
    {
     "name": "stdout",
     "output_type": "stream",
     "text": [
      "Number of unique apps:  9659\n",
      "Number of duplicate apps:  1181\n"
     ]
    }
   ],
   "source": [
    "google_unique = []\n",
    "google_duplicate = []\n",
    "\n",
    "for row in google_data:\n",
    "    app_name = row[0]\n",
    "    if app_name in google_unique:\n",
    "        google_duplicate.append(app_name)\n",
    "    else:\n",
    "        google_unique.append(app_name)\n",
    "print(\"Number of unique apps: \", len(google_unique))\n",
    "print(\"Number of duplicate apps: \", len(google_duplicate))"
   ]
  },
  {
   "cell_type": "markdown",
   "metadata": {},
   "source": [
    "We can see that some apps have multiple entries in our data set.\n",
    "\n",
    "Now we investigate the duplicate data as follows:"
   ]
  },
  {
   "cell_type": "code",
   "execution_count": 11,
   "metadata": {},
   "outputs": [
    {
     "name": "stdout",
     "output_type": "stream",
     "text": [
      "['Quick PDF Scanner + OCR FREE', 'Box', 'Google My Business', 'ZOOM Cloud Meetings', 'join.me - Simple Meetings', 'Box', 'Zenefits', 'Google Ads', 'Google My Business', 'Slack', 'FreshBooks Classic', 'Insightly CRM', 'QuickBooks Accounting: Invoicing & Expenses', 'HipChat - Chat Built for Teams', 'Xero Accounting Software', 'MailChimp - Email, Marketing Automation', 'Crew - Free Messaging and Scheduling', 'Asana: organize team projects', 'Google Analytics', 'AdWords Express']\n"
     ]
    }
   ],
   "source": [
    "print(google_duplicate[0:20])"
   ]
  },
  {
   "cell_type": "markdown",
   "metadata": {},
   "source": [
    "Next we print a sample of the duplicate apps to have a better understanding of the data."
   ]
  },
  {
   "cell_type": "code",
   "execution_count": 12,
   "metadata": {},
   "outputs": [
    {
     "name": "stdout",
     "output_type": "stream",
     "text": [
      "['Google Ads', 'BUSINESS', '4.3', '29313', '20M', '5,000,000+', 'Free', '0', 'Everyone', 'Business', 'July 30, 2018', '1.12.0', '4.0.3 and up']\n",
      "['Google Ads', 'BUSINESS', '4.3', '29313', '20M', '5,000,000+', 'Free', '0', 'Everyone', 'Business', 'July 30, 2018', '1.12.0', '4.0.3 and up']\n",
      "['Google Ads', 'BUSINESS', '4.3', '29331', '20M', '5,000,000+', 'Free', '0', 'Everyone', 'Business', 'July 30, 2018', '1.12.0', '4.0.3 and up']\n"
     ]
    }
   ],
   "source": [
    "for row in google_data:\n",
    "    if row[0] == 'Google Ads':\n",
    "        print(row)"
   ]
  },
  {
   "cell_type": "markdown",
   "metadata": {},
   "source": [
    "As we can see, in some cases the different data samples for the same app have different `Reviews` values.\n",
    "In this case: it makes sense to keep the entry with the highest number of ratings because it indicates a more reliable information.\n",
    "\n",
    "To do so, first we need to have a dictionary which contains the maximum ratings value for each app we have in the data set.\n",
    "\n"
   ]
  },
  {
   "cell_type": "code",
   "execution_count": 13,
   "metadata": {},
   "outputs": [],
   "source": [
    "max_reviews_google = {}\n",
    "for row in google_data:\n",
    "    name = row[0]\n",
    "    review = float(row[3])\n",
    "    if (name in max_reviews_google) and (review > max_reviews_google[name]):\n",
    "        max_reviews_google[name] = review\n",
    "    elif name not in max_reviews_google:\n",
    "        max_reviews_google[name] = review"
   ]
  },
  {
   "cell_type": "markdown",
   "metadata": {},
   "source": [
    "Now that we have a dictionary containing each app we have with it's max reviews value, we can clean our data set by keeping only tbe unique apps with highest reviews."
   ]
  },
  {
   "cell_type": "code",
   "execution_count": 14,
   "metadata": {},
   "outputs": [],
   "source": [
    "google_data_clean = []\n",
    "already_added = []\n",
    "for row in google_data:\n",
    "    app_name = row[0]\n",
    "    app_reviews = float(row[3])\n",
    "    if (app_reviews == max_reviews_google[app_name]) and (app_name not in already_added):\n",
    "        google_data_clean.append(row)\n",
    "        already_added.append(app_name)"
   ]
  },
  {
   "cell_type": "markdown",
   "metadata": {},
   "source": [
    "Now let's explore the clean data set."
   ]
  },
  {
   "cell_type": "code",
   "execution_count": 15,
   "metadata": {},
   "outputs": [
    {
     "name": "stdout",
     "output_type": "stream",
     "text": [
      "['Photo Editor & Candy Camera & Grid & ScrapBook', 'ART_AND_DESIGN', '4.1', '159', '19M', '10,000+', 'Free', '0', 'Everyone', 'Art & Design', 'January 7, 2018', '1.0.0', '4.0.3 and up']\n",
      "\n",
      "\n",
      "['U Launcher Lite – FREE Live Cool Themes, Hide Apps', 'ART_AND_DESIGN', '4.7', '87510', '8.7M', '5,000,000+', 'Free', '0', 'Everyone', 'Art & Design', 'August 1, 2018', '1.2.4', '4.0.3 and up']\n",
      "\n",
      "\n",
      "['Sketch - Draw & Paint', 'ART_AND_DESIGN', '4.5', '215644', '25M', '50,000,000+', 'Free', '0', 'Teen', 'Art & Design', 'June 8, 2018', 'Varies with device', '4.2 and up']\n",
      "\n",
      "\n",
      "['Pixel Draw - Number Art Coloring Book', 'ART_AND_DESIGN', '4.3', '967', '2.8M', '100,000+', 'Free', '0', 'Everyone', 'Art & Design;Creativity', 'June 20, 2018', '1.1', '4.4 and up']\n",
      "\n",
      "\n",
      "['Paper flowers instructions', 'ART_AND_DESIGN', '4.4', '167', '5.6M', '50,000+', 'Free', '0', 'Everyone', 'Art & Design', 'March 26, 2017', '1.0', '2.3 and up']\n",
      "\n",
      "\n",
      "Number of rows:  9659\n",
      "Number of columns:  13\n"
     ]
    }
   ],
   "source": [
    "explore_dataset(google_data_clean , 0 , 5 , True)"
   ]
  },
  {
   "cell_type": "markdown",
   "metadata": {},
   "source": [
    "Similarly, let's check for duplicate apps in the Apple IOS data set."
   ]
  },
  {
   "cell_type": "code",
   "execution_count": 16,
   "metadata": {},
   "outputs": [
    {
     "name": "stdout",
     "output_type": "stream",
     "text": [
      "Number of unique apps:  7195\n",
      "Number of duplicate apps:  2\n"
     ]
    }
   ],
   "source": [
    "apple_unique = []\n",
    "apple_duplicate = []\n",
    "\n",
    "for row in apple_data:\n",
    "    name = row[2]\n",
    "    if name in apple_unique:\n",
    "        apple_duplicate.append(name)\n",
    "    else:\n",
    "        apple_unique.append(name)\n",
    "print(\"Number of unique apps: \", len(apple_unique))\n",
    "print(\"Number of duplicate apps: \", len(apple_duplicate))"
   ]
  },
  {
   "cell_type": "markdown",
   "metadata": {},
   "source": [
    "As we can see, we only have two duplicate apps."
   ]
  },
  {
   "cell_type": "code",
   "execution_count": 17,
   "metadata": {},
   "outputs": [
    {
     "name": "stdout",
     "output_type": "stream",
     "text": [
      "['VR Roller Coaster', 'Mannequin Challenge']\n"
     ]
    }
   ],
   "source": [
    "print(apple_duplicate)"
   ]
  },
  {
   "cell_type": "markdown",
   "metadata": {},
   "source": [
    "Now let's print the duplicate apps so we can decide which ones to keep."
   ]
  },
  {
   "cell_type": "code",
   "execution_count": 18,
   "metadata": {},
   "outputs": [
    {
     "name": "stdout",
     "output_type": "stream",
     "text": [
      "['4000', '952877179', 'VR Roller Coaster', '169523200', 'USD', '0', '107', '102', '3.5', '3.5', '2.0.0', '4+', 'Games', '37', '5', '1', '1']\n",
      "index:  3319\n",
      "['7579', '1089824278', 'VR Roller Coaster', '240964608', 'USD', '0', '67', '44', '3.5', '4', '0.81', '4+', 'Games', '38', '0', '1', '1']\n",
      "index:  5603\n",
      "['10751', '1173990889', 'Mannequin Challenge', '109705216', 'USD', '0', '668', '87', '3', '3', '1.4', '9+', 'Games', '37', '4', '1', '1']\n",
      "index:  7092\n",
      "['10885', '1178454060', 'Mannequin Challenge', '59572224', 'USD', '0', '105', '58', '4', '4.5', '1.0.1', '4+', 'Games', '38', '5', '1', '1']\n",
      "index:  7128\n"
     ]
    }
   ],
   "source": [
    "for row in apple_data:\n",
    "    name = row[2]\n",
    "    if name in apple_duplicate:\n",
    "        print(row)\n",
    "        print(\"index: \", apple_data.index(row))"
   ]
  },
  {
   "cell_type": "markdown",
   "metadata": {},
   "source": [
    "Similarly, we will only keep the entries with the highest `rating_count`.\n",
    "We can manualy delete the unwanted data as follows:"
   ]
  },
  {
   "cell_type": "code",
   "execution_count": 19,
   "metadata": {},
   "outputs": [],
   "source": [
    "apple_data_clean = []\n",
    "for row in apple_data:\n",
    "    if not (apple_data.index(row) == 5603 or apple_data.index(row) == 7128):\n",
    "        apple_data_clean.append(row)\n"
   ]
  },
  {
   "cell_type": "code",
   "execution_count": 20,
   "metadata": {},
   "outputs": [
    {
     "name": "stdout",
     "output_type": "stream",
     "text": [
      "['1', '281656475', 'PAC-MAN Premium', '100788224', 'USD', '3.99', '21292', '26', '4', '4.5', '6.3.5', '4+', 'Games', '38', '5', '10', '1']\n",
      "\n",
      "\n",
      "['2', '281796108', 'Evernote - stay organized', '158578688', 'USD', '0', '161065', '26', '4', '3.5', '8.2.2', '4+', 'Productivity', '37', '5', '23', '1']\n",
      "\n",
      "\n",
      "['3', '281940292', 'WeatherBug - Local Weather, Radar, Maps, Alerts', '100524032', 'USD', '0', '188583', '2822', '3.5', '4.5', '5.0.0', '4+', 'Weather', '37', '5', '3', '1']\n",
      "\n",
      "\n",
      "['4', '282614216', 'eBay: Best App to Buy, Sell, Save! Online Shopping', '128512000', 'USD', '0', '262241', '649', '4', '4.5', '5.10.0', '12+', 'Shopping', '37', '5', '9', '1']\n",
      "\n",
      "\n",
      "['5', '282935706', 'Bible', '92774400', 'USD', '0', '985920', '5320', '4.5', '5', '7.5.1', '4+', 'Reference', '37', '5', '45', '1']\n",
      "\n",
      "\n",
      "Number of rows:  7195\n",
      "Number of columns:  17\n"
     ]
    }
   ],
   "source": [
    "explore_dataset(apple_data_clean , 0 , 5 , True)"
   ]
  },
  {
   "cell_type": "markdown",
   "metadata": {},
   "source": [
    "## Removing Non-English Apps\n",
    "\n",
    "In order to remove non-enlish apps we need to check if the application names are in english or not.\n",
    "\n",
    "English characters have ASCII values in the range 0 to 127.\n",
    "Due to some apps having special characters in their name that fall outside that range, we will allow up to three non english characters before we assign the app as non-enlish in order to minize the data loss.\n",
    "\n",
    "We can get the ASCII value of a character using the `ord()` built-in function.\n",
    "\n",
    "Following we define the `is_eng()` function which takes the following arguments:\n",
    "- app_name: the string to be evaluated\n",
    "\n",
    "Output: returns boolean (True or False)."
   ]
  },
  {
   "cell_type": "code",
   "execution_count": 21,
   "metadata": {},
   "outputs": [],
   "source": [
    "def is_eng(app_name):\n",
    "    non_eng = 0\n",
    "    for c in app_name:\n",
    "        if ord(c) > 127:\n",
    "            non_eng += 1\n",
    "        if non_eng > 3:\n",
    "            return False\n",
    "    return True"
   ]
  },
  {
   "cell_type": "markdown",
   "metadata": {},
   "source": [
    "Now we can go over our clean data and only keep the english apps as follows:"
   ]
  },
  {
   "cell_type": "code",
   "execution_count": 27,
   "metadata": {},
   "outputs": [],
   "source": [
    "google_clean_eng = []\n",
    "for row in google_data_clean:\n",
    "    name = row[0]\n",
    "    if is_eng(name):\n",
    "        google_clean_eng.append(row)\n",
    "\n",
    "apple_clean_eng = []\n",
    "for row in apple_data_clean:\n",
    "    name = row[2]\n",
    "    if is_eng(name):\n",
    "        apple_clean_eng.append(row)"
   ]
  },
  {
   "cell_type": "markdown",
   "metadata": {},
   "source": [
    "Let's explore our clean data of english apps."
   ]
  },
  {
   "cell_type": "code",
   "execution_count": 28,
   "metadata": {},
   "outputs": [
    {
     "name": "stdout",
     "output_type": "stream",
     "text": [
      "['Photo Editor & Candy Camera & Grid & ScrapBook', 'ART_AND_DESIGN', '4.1', '159', '19M', '10,000+', 'Free', '0', 'Everyone', 'Art & Design', 'January 7, 2018', '1.0.0', '4.0.3 and up']\n",
      "\n",
      "\n",
      "['U Launcher Lite – FREE Live Cool Themes, Hide Apps', 'ART_AND_DESIGN', '4.7', '87510', '8.7M', '5,000,000+', 'Free', '0', 'Everyone', 'Art & Design', 'August 1, 2018', '1.2.4', '4.0.3 and up']\n",
      "\n",
      "\n",
      "['Sketch - Draw & Paint', 'ART_AND_DESIGN', '4.5', '215644', '25M', '50,000,000+', 'Free', '0', 'Teen', 'Art & Design', 'June 8, 2018', 'Varies with device', '4.2 and up']\n",
      "\n",
      "\n",
      "Number of rows:  9614\n",
      "Number of columns:  13\n",
      "['1', '281656475', 'PAC-MAN Premium', '100788224', 'USD', '3.99', '21292', '26', '4', '4.5', '6.3.5', '4+', 'Games', '38', '5', '10', '1']\n",
      "\n",
      "\n",
      "['2', '281796108', 'Evernote - stay organized', '158578688', 'USD', '0', '161065', '26', '4', '3.5', '8.2.2', '4+', 'Productivity', '37', '5', '23', '1']\n",
      "\n",
      "\n",
      "['3', '281940292', 'WeatherBug - Local Weather, Radar, Maps, Alerts', '100524032', 'USD', '0', '188583', '2822', '3.5', '4.5', '5.0.0', '4+', 'Weather', '37', '5', '3', '1']\n",
      "\n",
      "\n",
      "Number of rows:  6181\n",
      "Number of columns:  17\n"
     ]
    }
   ],
   "source": [
    "explore_dataset(google_clean_eng , 0 , 3 , True)\n",
    "explore_dataset(apple_clean_eng , 0 , 3 , True)"
   ]
  },
  {
   "cell_type": "markdown",
   "metadata": {},
   "source": [
    "## Removing Non-Free Apps\n",
    "\n",
    "Following we only keep the free apps in each of the data sets we have so far by checking if the price is equal to 0.0 or not."
   ]
  },
  {
   "cell_type": "code",
   "execution_count": 33,
   "metadata": {},
   "outputs": [],
   "source": [
    "google_data_final = []\n",
    "for row in google_clean_eng:\n",
    "    Type = row[6]\n",
    "    if Type == 'Free':\n",
    "        google_data_final.append(row)\n",
    "        \n",
    "apple_data_final = []\n",
    "for row in apple_data_clean:\n",
    "    price = float(row[5])\n",
    "    if price == 0.0:\n",
    "        apple_data_final.append(row)"
   ]
  },
  {
   "cell_type": "code",
   "execution_count": 31,
   "metadata": {},
   "outputs": [
    {
     "name": "stdout",
     "output_type": "stream",
     "text": [
      "['Photo Editor & Candy Camera & Grid & ScrapBook', 'ART_AND_DESIGN', '4.1', '159', '19M', '10,000+', 'Free', '0', 'Everyone', 'Art & Design', 'January 7, 2018', '1.0.0', '4.0.3 and up']\n",
      "\n",
      "\n",
      "['U Launcher Lite – FREE Live Cool Themes, Hide Apps', 'ART_AND_DESIGN', '4.7', '87510', '8.7M', '5,000,000+', 'Free', '0', 'Everyone', 'Art & Design', 'August 1, 2018', '1.2.4', '4.0.3 and up']\n",
      "\n",
      "\n",
      "['Sketch - Draw & Paint', 'ART_AND_DESIGN', '4.5', '215644', '25M', '50,000,000+', 'Free', '0', 'Teen', 'Art & Design', 'June 8, 2018', 'Varies with device', '4.2 and up']\n",
      "\n",
      "\n",
      "['Pixel Draw - Number Art Coloring Book', 'ART_AND_DESIGN', '4.3', '967', '2.8M', '100,000+', 'Free', '0', 'Everyone', 'Art & Design;Creativity', 'June 20, 2018', '1.1', '4.4 and up']\n",
      "\n",
      "\n",
      "['Paper flowers instructions', 'ART_AND_DESIGN', '4.4', '167', '5.6M', '50,000+', 'Free', '0', 'Everyone', 'Art & Design', 'March 26, 2017', '1.0', '2.3 and up']\n",
      "\n",
      "\n",
      "Number of rows:  8863\n",
      "Number of columns:  13\n",
      "['2', '281796108', 'Evernote - stay organized', '158578688', 'USD', '0', '161065', '26', '4', '3.5', '8.2.2', '4+', 'Productivity', '37', '5', '23', '1']\n",
      "\n",
      "\n",
      "['3', '281940292', 'WeatherBug - Local Weather, Radar, Maps, Alerts', '100524032', 'USD', '0', '188583', '2822', '3.5', '4.5', '5.0.0', '4+', 'Weather', '37', '5', '3', '1']\n",
      "\n",
      "\n",
      "['4', '282614216', 'eBay: Best App to Buy, Sell, Save! Online Shopping', '128512000', 'USD', '0', '262241', '649', '4', '4.5', '5.10.0', '12+', 'Shopping', '37', '5', '9', '1']\n",
      "\n",
      "\n",
      "['5', '282935706', 'Bible', '92774400', 'USD', '0', '985920', '5320', '4.5', '5', '7.5.1', '4+', 'Reference', '37', '5', '45', '1']\n",
      "\n",
      "\n",
      "['7', '283646709', 'PayPal - Send and request money safely', '227795968', 'USD', '0', '119487', '879', '4', '4.5', '6.12.0', '4+', 'Finance', '37', '0', '19', '1']\n",
      "\n",
      "\n",
      "Number of rows:  4054\n",
      "Number of columns:  17\n"
     ]
    }
   ],
   "source": [
    "explore_dataset(google_data_final , 0 , 5 , True)\n",
    "explore_dataset(apple_data_final, 0 , 5 , True)"
   ]
  },
  {
   "cell_type": "code",
   "execution_count": null,
   "metadata": {},
   "outputs": [],
   "source": []
  }
 ],
 "metadata": {
  "kernelspec": {
   "display_name": "Python 3",
   "language": "python",
   "name": "python3"
  },
  "language_info": {
   "codemirror_mode": {
    "name": "ipython",
    "version": 3
   },
   "file_extension": ".py",
   "mimetype": "text/x-python",
   "name": "python",
   "nbconvert_exporter": "python",
   "pygments_lexer": "ipython3",
   "version": "3.7.6"
  }
 },
 "nbformat": 4,
 "nbformat_minor": 4
}
