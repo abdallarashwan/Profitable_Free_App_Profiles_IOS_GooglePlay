{
 "cells": [
  {
   "cell_type": "markdown",
   "metadata": {},
   "source": [
    "# Profitable Free App Profiles on App Store and Google Play.\n",
    "\n",
    "In this project we aim to find the main characterstics of the most profitable apps on Apple Store and Google Play.\n",
    "For apps that are free to download and install, the main source of revenue is the in-app ads which means that the number of users dirrectely influences the profite.\n",
    "\n",
    "We are going to analyze the data in order to know which apps are more appealing to users, hence: attracts the highest number of users."
   ]
  },
  {
   "cell_type": "markdown",
   "metadata": {},
   "source": [
    "# Previewing the Data\n",
    "\n",
    "Due to the large number of apps on both the Apple Store and Google Play, we are going to use sample data which are already availavle for free in order to save time and resources collecting new data ourselves.\n",
    "\n",
    "Following are the two datasets that are suitable for this project:\n",
    "\n",
    "- [Apple IOS App Store](https://www.kaggle.com/ramamet4/app-store-apple-data-set-10k-apps): which contains data about 7000 apps on the Apple Store, the dataset can be downloaded [here](https://www.kaggle.com/ramamet4/app-store-apple-data-set-10k-apps/download).\n",
    "- [Google Play Store Apps](https://www.kaggle.com/lava18/google-play-store-apps): which contains data about 9660 apps on the Google Play Store, the dataset can be downloaded [here](https://www.kaggle.com/lava18/google-play-store-apps/download).\n",
    "The datasets can be downloaded locally as csv files.\n",
    "\n",
    "First, we start by opening the two csv files and save the data as list of lists with help of `reader()` function and then assign the headers and data to two variables for each dataset:"
   ]
  },
  {
   "cell_type": "code",
   "execution_count": 1,
   "metadata": {},
   "outputs": [],
   "source": [
    "from csv import reader\n",
    "\n",
    "opened_file = open(\"/Users/abdallarashwan/Documents/Python Projects/Datasets/AppleStore/AppleStore.csv\") #Using absolute path of the downloaded data set\n",
    "read_file = reader(opened_file)\n",
    "apple = list(read_file)\n",
    "apple_header = apple[0]\n",
    "apple_data = apple[1:]\n",
    "\n",
    "opened_file = open(\"/Users/abdallarashwan/Documents/Python Projects/Datasets/GooglePlay/googleplaystore.csv\") #Using absolute path of the downloaded data set\n",
    "read_file = reader(opened_file)\n",
    "google = list(read_file)\n",
    "google_header = google[0]\n",
    "google_data = google[1:]\n"
   ]
  },
  {
   "cell_type": "markdown",
   "metadata": {},
   "source": [
    "Following, we define a simple function that can help us explore our data in a more efficient and reliable way.\n",
    "\n",
    "The function `explore_dataset()` has the following arguments:\n",
    "- dataset: which is the list of lists containing the data we want to explore.\n",
    "- start_index: index of the first row of data we want to review.\n",
    "- end_index: index of the last row of data we want to review (inclusive!).\n",
    "- rows_and_columns: boolean that defaultes to False, in case True: print totall number of rowns and columns."
   ]
  },
  {
   "cell_type": "code",
   "execution_count": 2,
   "metadata": {},
   "outputs": [],
   "source": [
    "def explore_dataset(dataset, start_index, end_index, rows_and_columns = False):\n",
    "    dataset_section = dataset[start_index:end_index]\n",
    "    for row in dataset_section:\n",
    "        print(row)\n",
    "        print('\\n')\n",
    "        \n",
    "    if rows_and_columns:\n",
    "        print(\"Number of rows: \",len(dataset))\n",
    "        print(\"Number of columns: \",len(dataset[0]))"
   ]
  },
  {
   "cell_type": "markdown",
   "metadata": {},
   "source": [
    "Now let us see the column names in order to have a better understanding of our data.\n",
    "\n",
    "Following we print the header for the Google Store data and three rows of data:"
   ]
  },
  {
   "cell_type": "code",
   "execution_count": 3,
   "metadata": {},
   "outputs": [
    {
     "name": "stdout",
     "output_type": "stream",
     "text": [
      "['App', 'Category', 'Rating', 'Reviews', 'Size', 'Installs', 'Type', 'Price', 'Content Rating', 'Genres', 'Last Updated', 'Current Ver', 'Android Ver']\n",
      "\n",
      "\n",
      "['Photo Editor & Candy Camera & Grid & ScrapBook', 'ART_AND_DESIGN', '4.1', '159', '19M', '10,000+', 'Free', '0', 'Everyone', 'Art & Design', 'January 7, 2018', '1.0.0', '4.0.3 and up']\n",
      "\n",
      "\n",
      "['Coloring book moana', 'ART_AND_DESIGN', '3.9', '967', '14M', '500,000+', 'Free', '0', 'Everyone', 'Art & Design;Pretend Play', 'January 15, 2018', '2.0.0', '4.0.3 and up']\n",
      "\n",
      "\n",
      "['U Launcher Lite – FREE Live Cool Themes, Hide Apps', 'ART_AND_DESIGN', '4.7', '87510', '8.7M', '5,000,000+', 'Free', '0', 'Everyone', 'Art & Design', 'August 1, 2018', '1.2.4', '4.0.3 and up']\n",
      "\n",
      "\n",
      "Number of rows:  10841\n",
      "Number of columns:  13\n"
     ]
    }
   ],
   "source": [
    "print(google_header)\n",
    "print('\\n')\n",
    "explore_dataset(google_data, 0 , 3 , True)"
   ]
  },
  {
   "cell_type": "markdown",
   "metadata": {},
   "source": [
    "Similarly for the Apple Store data."
   ]
  },
  {
   "cell_type": "code",
   "execution_count": 4,
   "metadata": {},
   "outputs": [
    {
     "name": "stdout",
     "output_type": "stream",
     "text": [
      "['', 'id', 'track_name', 'size_bytes', 'currency', 'price', 'rating_count_tot', 'rating_count_ver', 'user_rating', 'user_rating_ver', 'ver', 'cont_rating', 'prime_genre', 'sup_devices.num', 'ipadSc_urls.num', 'lang.num', 'vpp_lic']\n",
      "\n",
      "\n",
      "['1', '281656475', 'PAC-MAN Premium', '100788224', 'USD', '3.99', '21292', '26', '4', '4.5', '6.3.5', '4+', 'Games', '38', '5', '10', '1']\n",
      "\n",
      "\n",
      "['2', '281796108', 'Evernote - stay organized', '158578688', 'USD', '0', '161065', '26', '4', '3.5', '8.2.2', '4+', 'Productivity', '37', '5', '23', '1']\n",
      "\n",
      "\n",
      "['3', '281940292', 'WeatherBug - Local Weather, Radar, Maps, Alerts', '100524032', 'USD', '0', '188583', '2822', '3.5', '4.5', '5.0.0', '4+', 'Weather', '37', '5', '3', '1']\n",
      "\n",
      "\n",
      "Number of rows:  7197\n",
      "Number of columns:  17\n"
     ]
    }
   ],
   "source": [
    "print(apple_header)\n",
    "print('\\n')\n",
    "explore_dataset(apple_data , 0 , 3 , True)"
   ]
  },
  {
   "cell_type": "markdown",
   "metadata": {},
   "source": [
    "For more information about the columns and their description please refer to this [link](https://www.kaggle.com/lava18/google-play-store-apps) for the Google Play dataset and this [link](https://www.kaggle.com/ramamet4/app-store-apple-data-set-10k-apps) for the Apple IOS dataset.\n",
    "\n",
    "Following are the relevant columns for our analysis:\n",
    "- Google Play Store: `App`, `Category`, `Reviews`, `Installs`, `Type`, `Price`, and `Genres`.\n",
    "- Apple IOS App Store: `track_name`, `currency`, `price`, `rating_count_tot`, `rating_count_ver`, and `prime_genre`."
   ]
  },
  {
   "cell_type": "markdown",
   "metadata": {},
   "source": [
    "# Data Cleaning\n",
    "\n",
    "In this step we clean our data by removing any wrong, duplicate or unneeded data.\n",
    "\n",
    "## Checking for Values Out of Expected Range\n",
    "\n",
    "For some of the columns we know the range of values that we expect to find for each app (row in the dataset).\n",
    "\n",
    "Following we check for such wrong data by getting the maximum and minimum values for such columns to make sure it all existes within expected ranges.\n",
    "\n",
    "Next, we implement the `min_max_col()` function which takes the following arguments:\n",
    "- dataset: the dataset which we wish to check.\n",
    "- col_index: index of the column to check in the dataset.\n",
    "\n",
    "OUTPUT: the function prints the min and max values found for a specific column together with their respective index in the dataset (index of the row which contains those values).\n"
   ]
  },
  {
   "cell_type": "code",
   "execution_count": 5,
   "metadata": {},
   "outputs": [],
   "source": [
    "def min_max_col(dataset, col_index):\n",
    "    min_val = float(dataset[0][col_index])\n",
    "    max_index = 0\n",
    "    max_val = float(dataset[0][col_index])\n",
    "    min_index = 0\n",
    "    for row in dataset:\n",
    "        if float(row[col_index]) > max_val:\n",
    "            max_val = float(row[col_index])\n",
    "            max_index = dataset.index(row)\n",
    "        elif float(row[col_index]) < min_val:\n",
    "            min_val = float(row[col_index])\n",
    "            min_index = dataset.index(row)\n",
    "    print(\"max value: \", max_val)\n",
    "    print(\"Index of max value: \", max_index)\n",
    "    print(\"min value: \",min_val)\n",
    "    print(\"Index of min value: \", min_index)"
   ]
  },
  {
   "cell_type": "markdown",
   "metadata": {},
   "source": [
    "### Step 1:\n",
    "\n",
    "Now we use the previously defined function to find the min and max values for the `Rating` column in the Google Store App dataset.\n",
    "\n",
    "- The `Rating` column has index 2.\n",
    "- The range of values should be between 1.0 and 5.0 for ratings."
   ]
  },
  {
   "cell_type": "code",
   "execution_count": 6,
   "metadata": {},
   "outputs": [
    {
     "name": "stdout",
     "output_type": "stream",
     "text": [
      "max value:  19.0\n",
      "Index of max value:  10472\n",
      "min value:  1.0\n",
      "Index of min value:  625\n"
     ]
    }
   ],
   "source": [
    "min_max_col(google_data, 2)"
   ]
  },
  {
   "cell_type": "markdown",
   "metadata": {},
   "source": [
    "As we can see, the rating for the app with index 10472 is larger than the expected range which means that it's wrong and should be deleted from our data.\n",
    "\n",
    "We delete the row with index 10472 as follows:"
   ]
  },
  {
   "cell_type": "code",
   "execution_count": 7,
   "metadata": {},
   "outputs": [],
   "source": [
    "del google_data[10472]    "
   ]
  },
  {
   "cell_type": "markdown",
   "metadata": {},
   "source": [
    "Now let's check again to make sure no other wrong values exist."
   ]
  },
  {
   "cell_type": "code",
   "execution_count": 8,
   "metadata": {},
   "outputs": [
    {
     "name": "stdout",
     "output_type": "stream",
     "text": [
      "max value:  5.0\n",
      "Index of max value:  329\n",
      "min value:  1.0\n",
      "Index of min value:  625\n"
     ]
    }
   ],
   "source": [
    "min_max_col(google_data, 2)"
   ]
  },
  {
   "cell_type": "markdown",
   "metadata": {},
   "source": [
    "As we can see, all values are now within expected range.\n",
    "\n",
    "Similarly, we check the `user_rating` column in the Apple IOS dataset.\n",
    "- the index of the column is 8.\n",
    "- the range of values should be between 0.0 and 5.0"
   ]
  },
  {
   "cell_type": "code",
   "execution_count": 9,
   "metadata": {},
   "outputs": [
    {
     "name": "stdout",
     "output_type": "stream",
     "text": [
      "max value:  5.0\n",
      "Index of max value:  21\n",
      "min value:  0.0\n",
      "Index of min value:  199\n"
     ]
    }
   ],
   "source": [
    "min_max_col(apple_data, 8)"
   ]
  },
  {
   "cell_type": "markdown",
   "metadata": {},
   "source": [
    "All values are within limits."
   ]
  },
  {
   "cell_type": "markdown",
   "metadata": {},
   "source": [
    "## Checking for Duplicate Data\n",
    "\n",
    "Following we check for number of unique and duplicate data in the Google Store data set."
   ]
  },
  {
   "cell_type": "code",
   "execution_count": 10,
   "metadata": {},
   "outputs": [
    {
     "name": "stdout",
     "output_type": "stream",
     "text": [
      "Number of unique apps:  9659\n",
      "Number of duplicate apps:  1181\n"
     ]
    }
   ],
   "source": [
    "google_unique = []\n",
    "google_duplicate = []\n",
    "\n",
    "for row in google_data:\n",
    "    app_name = row[0]\n",
    "    if app_name in google_unique:\n",
    "        google_duplicate.append(app_name)\n",
    "    else:\n",
    "        google_unique.append(app_name)\n",
    "print(\"Number of unique apps: \", len(google_unique))\n",
    "print(\"Number of duplicate apps: \", len(google_duplicate))"
   ]
  },
  {
   "cell_type": "markdown",
   "metadata": {},
   "source": [
    "We can see that some apps have multiple entries in our data set.\n",
    "\n",
    "Now we investigate the duplicate data as follows:"
   ]
  },
  {
   "cell_type": "code",
   "execution_count": 11,
   "metadata": {},
   "outputs": [
    {
     "name": "stdout",
     "output_type": "stream",
     "text": [
      "['Quick PDF Scanner + OCR FREE', 'Box', 'Google My Business', 'ZOOM Cloud Meetings', 'join.me - Simple Meetings', 'Box', 'Zenefits', 'Google Ads', 'Google My Business', 'Slack', 'FreshBooks Classic', 'Insightly CRM', 'QuickBooks Accounting: Invoicing & Expenses', 'HipChat - Chat Built for Teams', 'Xero Accounting Software', 'MailChimp - Email, Marketing Automation', 'Crew - Free Messaging and Scheduling', 'Asana: organize team projects', 'Google Analytics', 'AdWords Express']\n"
     ]
    }
   ],
   "source": [
    "print(google_duplicate[0:20])"
   ]
  },
  {
   "cell_type": "markdown",
   "metadata": {},
   "source": [
    "Next we print a sample of the duplicate apps to have a better understanding of the data."
   ]
  },
  {
   "cell_type": "code",
   "execution_count": 12,
   "metadata": {},
   "outputs": [
    {
     "name": "stdout",
     "output_type": "stream",
     "text": [
      "['Google Ads', 'BUSINESS', '4.3', '29313', '20M', '5,000,000+', 'Free', '0', 'Everyone', 'Business', 'July 30, 2018', '1.12.0', '4.0.3 and up']\n",
      "['Google Ads', 'BUSINESS', '4.3', '29313', '20M', '5,000,000+', 'Free', '0', 'Everyone', 'Business', 'July 30, 2018', '1.12.0', '4.0.3 and up']\n",
      "['Google Ads', 'BUSINESS', '4.3', '29331', '20M', '5,000,000+', 'Free', '0', 'Everyone', 'Business', 'July 30, 2018', '1.12.0', '4.0.3 and up']\n"
     ]
    }
   ],
   "source": [
    "for row in google_data:\n",
    "    if row[0] == 'Google Ads':\n",
    "        print(row)"
   ]
  },
  {
   "cell_type": "markdown",
   "metadata": {},
   "source": [
    "As we can see, in some cases the different data samples for the same app have different `Reviews` values.\n",
    "In this case: it makes sense to keep the entry with the highest number of ratings because it indicates a more reliable information.\n",
    "\n",
    "To do so, first we need to have a dictionary which contains the maximum ratings value for each app we have in the data set.\n",
    "\n"
   ]
  },
  {
   "cell_type": "code",
   "execution_count": 13,
   "metadata": {},
   "outputs": [],
   "source": [
    "max_reviews_google = {}\n",
    "for row in google_data:\n",
    "    name = row[0]\n",
    "    review = float(row[3])\n",
    "    if (name in max_reviews_google) and (review > max_reviews_google[name]):\n",
    "        max_reviews_google[name] = review\n",
    "    elif name not in max_reviews_google:\n",
    "        max_reviews_google[name] = review"
   ]
  },
  {
   "cell_type": "markdown",
   "metadata": {},
   "source": [
    "Now that we have a dictionary containing each app we have with it's max reviews value, we can clean our data set by keeping only tbe unique apps with highest reviews."
   ]
  },
  {
   "cell_type": "code",
   "execution_count": 14,
   "metadata": {},
   "outputs": [],
   "source": [
    "google_data_clean = []\n",
    "already_added = []\n",
    "for row in google_data:\n",
    "    app_name = row[0]\n",
    "    app_reviews = float(row[3])\n",
    "    if (app_reviews == max_reviews_google[app_name]) and (app_name not in already_added):\n",
    "        google_data_clean.append(row)\n",
    "        already_added.append(app_name)"
   ]
  },
  {
   "cell_type": "markdown",
   "metadata": {},
   "source": [
    "Now let's explore the clean data set."
   ]
  },
  {
   "cell_type": "code",
   "execution_count": 15,
   "metadata": {},
   "outputs": [
    {
     "name": "stdout",
     "output_type": "stream",
     "text": [
      "['Photo Editor & Candy Camera & Grid & ScrapBook', 'ART_AND_DESIGN', '4.1', '159', '19M', '10,000+', 'Free', '0', 'Everyone', 'Art & Design', 'January 7, 2018', '1.0.0', '4.0.3 and up']\n",
      "\n",
      "\n",
      "['U Launcher Lite – FREE Live Cool Themes, Hide Apps', 'ART_AND_DESIGN', '4.7', '87510', '8.7M', '5,000,000+', 'Free', '0', 'Everyone', 'Art & Design', 'August 1, 2018', '1.2.4', '4.0.3 and up']\n",
      "\n",
      "\n",
      "['Sketch - Draw & Paint', 'ART_AND_DESIGN', '4.5', '215644', '25M', '50,000,000+', 'Free', '0', 'Teen', 'Art & Design', 'June 8, 2018', 'Varies with device', '4.2 and up']\n",
      "\n",
      "\n",
      "['Pixel Draw - Number Art Coloring Book', 'ART_AND_DESIGN', '4.3', '967', '2.8M', '100,000+', 'Free', '0', 'Everyone', 'Art & Design;Creativity', 'June 20, 2018', '1.1', '4.4 and up']\n",
      "\n",
      "\n",
      "['Paper flowers instructions', 'ART_AND_DESIGN', '4.4', '167', '5.6M', '50,000+', 'Free', '0', 'Everyone', 'Art & Design', 'March 26, 2017', '1.0', '2.3 and up']\n",
      "\n",
      "\n",
      "Number of rows:  9659\n",
      "Number of columns:  13\n"
     ]
    }
   ],
   "source": [
    "explore_dataset(google_data_clean , 0 , 5 , True)"
   ]
  },
  {
   "cell_type": "markdown",
   "metadata": {},
   "source": [
    "Similarly, let's check for duplicate apps in the Apple IOS data set."
   ]
  },
  {
   "cell_type": "code",
   "execution_count": 16,
   "metadata": {},
   "outputs": [
    {
     "name": "stdout",
     "output_type": "stream",
     "text": [
      "Number of unique apps:  7195\n",
      "Number of duplicate apps:  2\n"
     ]
    }
   ],
   "source": [
    "apple_unique = []\n",
    "apple_duplicate = []\n",
    "\n",
    "for row in apple_data:\n",
    "    name = row[2]\n",
    "    if name in apple_unique:\n",
    "        apple_duplicate.append(name)\n",
    "    else:\n",
    "        apple_unique.append(name)\n",
    "print(\"Number of unique apps: \", len(apple_unique))\n",
    "print(\"Number of duplicate apps: \", len(apple_duplicate))"
   ]
  },
  {
   "cell_type": "markdown",
   "metadata": {},
   "source": [
    "As we can see, we only have two duplicate apps."
   ]
  },
  {
   "cell_type": "code",
   "execution_count": 17,
   "metadata": {},
   "outputs": [
    {
     "name": "stdout",
     "output_type": "stream",
     "text": [
      "['VR Roller Coaster', 'Mannequin Challenge']\n"
     ]
    }
   ],
   "source": [
    "print(apple_duplicate)"
   ]
  },
  {
   "cell_type": "markdown",
   "metadata": {},
   "source": [
    "Now let's print the duplicate apps so we can decide which ones to keep."
   ]
  },
  {
   "cell_type": "code",
   "execution_count": 18,
   "metadata": {},
   "outputs": [
    {
     "name": "stdout",
     "output_type": "stream",
     "text": [
      "['4000', '952877179', 'VR Roller Coaster', '169523200', 'USD', '0', '107', '102', '3.5', '3.5', '2.0.0', '4+', 'Games', '37', '5', '1', '1']\n",
      "index:  3319\n",
      "['7579', '1089824278', 'VR Roller Coaster', '240964608', 'USD', '0', '67', '44', '3.5', '4', '0.81', '4+', 'Games', '38', '0', '1', '1']\n",
      "index:  5603\n",
      "['10751', '1173990889', 'Mannequin Challenge', '109705216', 'USD', '0', '668', '87', '3', '3', '1.4', '9+', 'Games', '37', '4', '1', '1']\n",
      "index:  7092\n",
      "['10885', '1178454060', 'Mannequin Challenge', '59572224', 'USD', '0', '105', '58', '4', '4.5', '1.0.1', '4+', 'Games', '38', '5', '1', '1']\n",
      "index:  7128\n"
     ]
    }
   ],
   "source": [
    "for row in apple_data:\n",
    "    name = row[2]\n",
    "    if name in apple_duplicate:\n",
    "        print(row)\n",
    "        print(\"index: \", apple_data.index(row))"
   ]
  },
  {
   "cell_type": "markdown",
   "metadata": {},
   "source": [
    "Similarly, we will only keep the entries with the highest `rating_count`.\n",
    "We can manualy delete the unwanted data as follows:"
   ]
  },
  {
   "cell_type": "code",
   "execution_count": 19,
   "metadata": {},
   "outputs": [],
   "source": [
    "apple_data_clean = []\n",
    "for row in apple_data:\n",
    "    if not (apple_data.index(row) == 5603 or apple_data.index(row) == 7128):\n",
    "        apple_data_clean.append(row)\n"
   ]
  },
  {
   "cell_type": "code",
   "execution_count": 20,
   "metadata": {},
   "outputs": [
    {
     "name": "stdout",
     "output_type": "stream",
     "text": [
      "['1', '281656475', 'PAC-MAN Premium', '100788224', 'USD', '3.99', '21292', '26', '4', '4.5', '6.3.5', '4+', 'Games', '38', '5', '10', '1']\n",
      "\n",
      "\n",
      "['2', '281796108', 'Evernote - stay organized', '158578688', 'USD', '0', '161065', '26', '4', '3.5', '8.2.2', '4+', 'Productivity', '37', '5', '23', '1']\n",
      "\n",
      "\n",
      "['3', '281940292', 'WeatherBug - Local Weather, Radar, Maps, Alerts', '100524032', 'USD', '0', '188583', '2822', '3.5', '4.5', '5.0.0', '4+', 'Weather', '37', '5', '3', '1']\n",
      "\n",
      "\n",
      "['4', '282614216', 'eBay: Best App to Buy, Sell, Save! Online Shopping', '128512000', 'USD', '0', '262241', '649', '4', '4.5', '5.10.0', '12+', 'Shopping', '37', '5', '9', '1']\n",
      "\n",
      "\n",
      "['5', '282935706', 'Bible', '92774400', 'USD', '0', '985920', '5320', '4.5', '5', '7.5.1', '4+', 'Reference', '37', '5', '45', '1']\n",
      "\n",
      "\n",
      "Number of rows:  7195\n",
      "Number of columns:  17\n"
     ]
    }
   ],
   "source": [
    "explore_dataset(apple_data_clean , 0 , 5 , True)"
   ]
  },
  {
   "cell_type": "markdown",
   "metadata": {},
   "source": [
    "## Removing Non-English Apps\n",
    "\n",
    "In order to remove non-enlish apps we need to check if the application names are in english or not.\n",
    "\n",
    "English characters have ASCII values in the range 0 to 127.\n",
    "Due to some apps having special characters in their name that fall outside that range, we will allow up to three non english characters before we assign the app as non-enlish in order to minize the data loss.\n",
    "\n",
    "We can get the ASCII value of a character using the `ord()` built-in function.\n",
    "\n",
    "Following we define the `is_eng()` function which takes the following arguments:\n",
    "- app_name: the string to be evaluated\n",
    "\n",
    "Output: returns boolean (True or False)."
   ]
  },
  {
   "cell_type": "code",
   "execution_count": 21,
   "metadata": {},
   "outputs": [],
   "source": [
    "def is_eng(app_name):\n",
    "    non_eng = 0\n",
    "    for c in app_name:\n",
    "        if ord(c) > 127:\n",
    "            non_eng += 1        \n",
    "    if non_eng > 3:\n",
    "        return False\n",
    "    return True"
   ]
  },
  {
   "cell_type": "markdown",
   "metadata": {},
   "source": [
    "Now we can go over our clean data and only keep the english apps as follows:"
   ]
  },
  {
   "cell_type": "code",
   "execution_count": 22,
   "metadata": {},
   "outputs": [],
   "source": [
    "google_clean_eng = []\n",
    "for row in google_data_clean:\n",
    "    name = row[0]\n",
    "    if is_eng(name):\n",
    "        google_clean_eng.append(row)\n",
    "\n",
    "apple_clean_eng = []\n",
    "for row in apple_data_clean:\n",
    "    name = row[2]\n",
    "    if is_eng(name):\n",
    "        apple_clean_eng.append(row)"
   ]
  },
  {
   "cell_type": "markdown",
   "metadata": {},
   "source": [
    "Let's explore our clean data of english apps."
   ]
  },
  {
   "cell_type": "code",
   "execution_count": 23,
   "metadata": {},
   "outputs": [
    {
     "name": "stdout",
     "output_type": "stream",
     "text": [
      "['Photo Editor & Candy Camera & Grid & ScrapBook', 'ART_AND_DESIGN', '4.1', '159', '19M', '10,000+', 'Free', '0', 'Everyone', 'Art & Design', 'January 7, 2018', '1.0.0', '4.0.3 and up']\n",
      "\n",
      "\n",
      "['U Launcher Lite – FREE Live Cool Themes, Hide Apps', 'ART_AND_DESIGN', '4.7', '87510', '8.7M', '5,000,000+', 'Free', '0', 'Everyone', 'Art & Design', 'August 1, 2018', '1.2.4', '4.0.3 and up']\n",
      "\n",
      "\n",
      "['Sketch - Draw & Paint', 'ART_AND_DESIGN', '4.5', '215644', '25M', '50,000,000+', 'Free', '0', 'Teen', 'Art & Design', 'June 8, 2018', 'Varies with device', '4.2 and up']\n",
      "\n",
      "\n",
      "Number of rows:  9614\n",
      "Number of columns:  13\n",
      "['1', '281656475', 'PAC-MAN Premium', '100788224', 'USD', '3.99', '21292', '26', '4', '4.5', '6.3.5', '4+', 'Games', '38', '5', '10', '1']\n",
      "\n",
      "\n",
      "['2', '281796108', 'Evernote - stay organized', '158578688', 'USD', '0', '161065', '26', '4', '3.5', '8.2.2', '4+', 'Productivity', '37', '5', '23', '1']\n",
      "\n",
      "\n",
      "['3', '281940292', 'WeatherBug - Local Weather, Radar, Maps, Alerts', '100524032', 'USD', '0', '188583', '2822', '3.5', '4.5', '5.0.0', '4+', 'Weather', '37', '5', '3', '1']\n",
      "\n",
      "\n",
      "Number of rows:  6181\n",
      "Number of columns:  17\n"
     ]
    }
   ],
   "source": [
    "explore_dataset(google_clean_eng , 0 , 3 , True)\n",
    "explore_dataset(apple_clean_eng , 0 , 3 , True)"
   ]
  },
  {
   "cell_type": "markdown",
   "metadata": {},
   "source": [
    "## Removing Non-Free Apps\n",
    "\n",
    "Following we only keep the free apps in each of the data sets we have so far by checking if the price is equal to 0.0 or not."
   ]
  },
  {
   "cell_type": "code",
   "execution_count": 24,
   "metadata": {},
   "outputs": [],
   "source": [
    "google_data_final = []\n",
    "for row in google_clean_eng:\n",
    "    Type = row[6]\n",
    "    if Type == 'Free':\n",
    "        google_data_final.append(row)\n",
    "        \n",
    "apple_data_final = []\n",
    "for row in apple_clean_eng:\n",
    "    price = float(row[5])\n",
    "    if price == 0.0:\n",
    "        apple_data_final.append(row)"
   ]
  },
  {
   "cell_type": "code",
   "execution_count": 25,
   "metadata": {},
   "outputs": [
    {
     "name": "stdout",
     "output_type": "stream",
     "text": [
      "['Photo Editor & Candy Camera & Grid & ScrapBook', 'ART_AND_DESIGN', '4.1', '159', '19M', '10,000+', 'Free', '0', 'Everyone', 'Art & Design', 'January 7, 2018', '1.0.0', '4.0.3 and up']\n",
      "\n",
      "\n",
      "['U Launcher Lite – FREE Live Cool Themes, Hide Apps', 'ART_AND_DESIGN', '4.7', '87510', '8.7M', '5,000,000+', 'Free', '0', 'Everyone', 'Art & Design', 'August 1, 2018', '1.2.4', '4.0.3 and up']\n",
      "\n",
      "\n",
      "['Sketch - Draw & Paint', 'ART_AND_DESIGN', '4.5', '215644', '25M', '50,000,000+', 'Free', '0', 'Teen', 'Art & Design', 'June 8, 2018', 'Varies with device', '4.2 and up']\n",
      "\n",
      "\n",
      "['Pixel Draw - Number Art Coloring Book', 'ART_AND_DESIGN', '4.3', '967', '2.8M', '100,000+', 'Free', '0', 'Everyone', 'Art & Design;Creativity', 'June 20, 2018', '1.1', '4.4 and up']\n",
      "\n",
      "\n",
      "['Paper flowers instructions', 'ART_AND_DESIGN', '4.4', '167', '5.6M', '50,000+', 'Free', '0', 'Everyone', 'Art & Design', 'March 26, 2017', '1.0', '2.3 and up']\n",
      "\n",
      "\n",
      "Number of rows:  8863\n",
      "Number of columns:  13\n",
      "['2', '281796108', 'Evernote - stay organized', '158578688', 'USD', '0', '161065', '26', '4', '3.5', '8.2.2', '4+', 'Productivity', '37', '5', '23', '1']\n",
      "\n",
      "\n",
      "['3', '281940292', 'WeatherBug - Local Weather, Radar, Maps, Alerts', '100524032', 'USD', '0', '188583', '2822', '3.5', '4.5', '5.0.0', '4+', 'Weather', '37', '5', '3', '1']\n",
      "\n",
      "\n",
      "['4', '282614216', 'eBay: Best App to Buy, Sell, Save! Online Shopping', '128512000', 'USD', '0', '262241', '649', '4', '4.5', '5.10.0', '12+', 'Shopping', '37', '5', '9', '1']\n",
      "\n",
      "\n",
      "['5', '282935706', 'Bible', '92774400', 'USD', '0', '985920', '5320', '4.5', '5', '7.5.1', '4+', 'Reference', '37', '5', '45', '1']\n",
      "\n",
      "\n",
      "['7', '283646709', 'PayPal - Send and request money safely', '227795968', 'USD', '0', '119487', '879', '4', '4.5', '6.12.0', '4+', 'Finance', '37', '0', '19', '1']\n",
      "\n",
      "\n",
      "Number of rows:  3220\n",
      "Number of columns:  17\n"
     ]
    }
   ],
   "source": [
    "explore_dataset(google_data_final , 0 , 5 , True)\n",
    "explore_dataset(apple_data_final, 0 , 5 , True)"
   ]
  },
  {
   "cell_type": "markdown",
   "metadata": {},
   "source": [
    "## Most Popular Genres\n",
    "\n",
    "As mentioned earlier, our goal is to decide which apps attract the most number of users on both Apple IOS Store and Google Play Store, so first we need to find which genres are most popular.\n",
    "\n",
    "From the data we have, the following columns can be used to describe the app's genre on Google Play Store:\n",
    "\n",
    "- `Category` : with index 1.\n",
    "- `Genres` : with index 9.\n",
    "\n",
    "For Apple IOS Store, following are the columns that describ the app's profile:\n",
    "\n",
    "- `prime_genre` : with index 12.\n",
    "\n",
    "In order to be able to see the most common or popular genres, we need to see how many times each value occurs in the previously mentioned columns; hence, we need to calculate frequency tables for those columns.\n",
    "\n",
    "### First Step\n",
    "\n",
    "Following we define the function `frquency_table()` that calculates the frequency tables and takes the following arguments:\n",
    "\n",
    "- `dataset` : the dataset we wish to use to calculate the frquency table.\n",
    "- `column_index`: index of the column we are interested in.\n",
    "\n",
    "OUTPUT: Returns the frequency table as dictionary of percentages."
   ]
  },
  {
   "cell_type": "code",
   "execution_count": 26,
   "metadata": {},
   "outputs": [],
   "source": [
    "def frequency_table(dataset, column_index):\n",
    "    table = {}\n",
    "    total = len(dataset)\n",
    "    for row in dataset:\n",
    "        value = row[column_index]\n",
    "        if value in table:\n",
    "            table[value] += 1\n",
    "        else:\n",
    "            table[value] = 1 \n",
    "            \n",
    "    table_perc = {}\n",
    "    for element in table:\n",
    "        table_perc[element] = ( table[element] / total ) * 100 \n",
    "    return table_perc\n"
   ]
  },
  {
   "cell_type": "markdown",
   "metadata": {},
   "source": [
    "Following function `explore_table()` is defined to take the frequency table as an argument and then prints the values in descending order"
   ]
  },
  {
   "cell_type": "code",
   "execution_count": 27,
   "metadata": {},
   "outputs": [],
   "source": [
    "def explore_table(table):\n",
    "    sorted_table = sorted(table.items(), key=lambda x: x[1], reverse=True)\n",
    "          \n",
    "    for el in sorted_table:\n",
    "        print(el[0],\": \",el[1], \" %\")\n",
    "              "
   ]
  },
  {
   "cell_type": "markdown",
   "metadata": {},
   "source": [
    "### Frequency Table for `Category` in Google Play Store:"
   ]
  },
  {
   "cell_type": "code",
   "execution_count": 28,
   "metadata": {},
   "outputs": [
    {
     "name": "stdout",
     "output_type": "stream",
     "text": [
      "FAMILY :  18.898792733837304  %\n",
      "GAME :  9.725826469592688  %\n",
      "TOOLS :  8.462146000225657  %\n",
      "BUSINESS :  4.592124562789123  %\n",
      "LIFESTYLE :  3.9038700214374367  %\n",
      "PRODUCTIVITY :  3.8925871601038025  %\n",
      "FINANCE :  3.7007785174320205  %\n",
      "MEDICAL :  3.5315355974275078  %\n",
      "SPORTS :  3.396141261423897  %\n",
      "PERSONALIZATION :  3.317161232088458  %\n",
      "COMMUNICATION :  3.2381812027530184  %\n",
      "HEALTH_AND_FITNESS :  3.0802211440821394  %\n",
      "PHOTOGRAPHY :  2.944826808078529  %\n",
      "NEWS_AND_MAGAZINES :  2.798149610741284  %\n",
      "SOCIAL :  2.6627552747376737  %\n",
      "TRAVEL_AND_LOCAL :  2.335552296062281  %\n",
      "SHOPPING :  2.245289405393208  %\n",
      "BOOKS_AND_REFERENCE :  2.1437436533904997  %\n",
      "DATING :  1.8616721200496444  %\n",
      "VIDEO_PLAYERS :  1.7939749520478394  %\n",
      "MAPS_AND_NAVIGATION :  1.399074805370642  %\n",
      "FOOD_AND_DRINK :  1.241114746699763  %\n",
      "EDUCATION :  1.1621347173643235  %\n",
      "ENTERTAINMENT :  0.9590432133589079  %\n",
      "LIBRARIES_AND_DEMO :  0.9364774906916393  %\n",
      "AUTO_AND_VEHICLES :  0.9251946293580051  %\n",
      "HOUSE_AND_HOME :  0.8236488773552973  %\n",
      "WEATHER :  0.8010831546880289  %\n",
      "EVENTS :  0.7108202640189552  %\n",
      "PARENTING :  0.6544059573507841  %\n",
      "ART_AND_DESIGN :  0.6431230960171499  %\n",
      "COMICS :  0.6205573733498815  %\n",
      "BEAUTY :  0.5979916506826132  %\n"
     ]
    }
   ],
   "source": [
    "explore_table(frequency_table(google_data_final, 1))"
   ]
  },
  {
   "cell_type": "markdown",
   "metadata": {},
   "source": [
    "### Frequency Table for `Genres`  in Google Play Store:"
   ]
  },
  {
   "cell_type": "code",
   "execution_count": 29,
   "metadata": {
    "scrolled": false
   },
   "outputs": [
    {
     "name": "stdout",
     "output_type": "stream",
     "text": [
      "Tools :  8.450863138892023  %\n",
      "Entertainment :  6.070179397495204  %\n",
      "Education :  5.348076272142616  %\n",
      "Business :  4.592124562789123  %\n",
      "Lifestyle :  3.8925871601038025  %\n",
      "Productivity :  3.8925871601038025  %\n",
      "Finance :  3.7007785174320205  %\n",
      "Medical :  3.5315355974275078  %\n",
      "Sports :  3.463838429425702  %\n",
      "Personalization :  3.317161232088458  %\n",
      "Communication :  3.2381812027530184  %\n",
      "Action :  3.102786866749408  %\n",
      "Health & Fitness :  3.0802211440821394  %\n",
      "Photography :  2.944826808078529  %\n",
      "News & Magazines :  2.798149610741284  %\n",
      "Social :  2.6627552747376737  %\n",
      "Travel & Local :  2.324269434728647  %\n",
      "Shopping :  2.245289405393208  %\n",
      "Books & Reference :  2.1437436533904997  %\n",
      "Simulation :  2.042197901387792  %\n",
      "Dating :  1.8616721200496444  %\n",
      "Arcade :  1.8503892587160102  %\n",
      "Video Players & Editors :  1.771409229380571  %\n",
      "Casual :  1.7601263680469368  %\n",
      "Maps & Navigation :  1.399074805370642  %\n",
      "Food & Drink :  1.241114746699763  %\n",
      "Puzzle :  1.128286133363421  %\n",
      "Racing :  0.9928917973598104  %\n",
      "Libraries & Demo :  0.9364774906916393  %\n",
      "Role Playing :  0.9364774906916393  %\n",
      "Auto & Vehicles :  0.9251946293580051  %\n",
      "Strategy :  0.9026289066907368  %\n",
      "House & Home :  0.8236488773552973  %\n",
      "Weather :  0.8010831546880289  %\n",
      "Events :  0.7108202640189552  %\n",
      "Adventure :  0.6769716800180525  %\n",
      "Comics :  0.6092745120162473  %\n",
      "Art & Design :  0.5979916506826132  %\n",
      "Beauty :  0.5979916506826132  %\n",
      "Parenting :  0.4964458986799052  %\n",
      "Card :  0.4513144533453684  %\n",
      "Casino :  0.42874873067809993  %\n",
      "Trivia :  0.4174658693444658  %\n",
      "Educational;Education :  0.3949001466771973  %\n",
      "Board :  0.38361728534356315  %\n",
      "Educational :  0.37233442400992894  %\n",
      "Education;Education :  0.33848584000902626  %\n",
      "Word :  0.25950581067358686  %\n",
      "Casual;Pretend Play :  0.2369400880063184  %\n",
      "Music :  0.20309150400541578  %\n",
      "Entertainment;Music & Video :  0.16924292000451313  %\n",
      "Puzzle;Brain Games :  0.16924292000451313  %\n",
      "Racing;Action & Adventure :  0.16924292000451313  %\n",
      "Casual;Brain Games :  0.1353943360036105  %\n",
      "Casual;Action & Adventure :  0.1353943360036105  %\n",
      "Arcade;Action & Adventure :  0.1241114746699763  %\n",
      "Action;Action & Adventure :  0.10154575200270789  %\n",
      "Educational;Pretend Play :  0.09026289066907367  %\n",
      "Entertainment;Brain Games :  0.07898002933543948  %\n",
      "Simulation;Action & Adventure :  0.07898002933543948  %\n",
      "Board;Brain Games :  0.07898002933543948  %\n",
      "Parenting;Education :  0.07898002933543948  %\n",
      "Art & Design;Creativity :  0.06769716800180525  %\n",
      "Educational;Brain Games :  0.06769716800180525  %\n",
      "Casual;Creativity :  0.06769716800180525  %\n",
      "Parenting;Music & Video :  0.06769716800180525  %\n",
      "Education;Pretend Play :  0.05641430666817105  %\n",
      "Education;Creativity :  0.045131445334536835  %\n",
      "Role Playing;Pretend Play :  0.045131445334536835  %\n",
      "Education;Brain Games :  0.033848584000902626  %\n",
      "Entertainment;Creativity :  0.033848584000902626  %\n",
      "Educational;Creativity :  0.033848584000902626  %\n",
      "Adventure;Action & Adventure :  0.033848584000902626  %\n",
      "Role Playing;Action & Adventure :  0.033848584000902626  %\n",
      "Educational;Action & Adventure :  0.033848584000902626  %\n",
      "Entertainment;Action & Adventure :  0.033848584000902626  %\n",
      "Puzzle;Action & Adventure :  0.033848584000902626  %\n",
      "Education;Action & Adventure :  0.033848584000902626  %\n",
      "Education;Music & Video :  0.033848584000902626  %\n",
      "Casual;Education :  0.022565722667268417  %\n",
      "Music;Music & Video :  0.022565722667268417  %\n",
      "Simulation;Pretend Play :  0.022565722667268417  %\n",
      "Puzzle;Creativity :  0.022565722667268417  %\n",
      "Sports;Action & Adventure :  0.022565722667268417  %\n",
      "Board;Action & Adventure :  0.022565722667268417  %\n",
      "Entertainment;Pretend Play :  0.022565722667268417  %\n",
      "Video Players & Editors;Music & Video :  0.022565722667268417  %\n",
      "Comics;Creativity :  0.011282861333634209  %\n",
      "Lifestyle;Pretend Play :  0.011282861333634209  %\n",
      "Art & Design;Pretend Play :  0.011282861333634209  %\n",
      "Entertainment;Education :  0.011282861333634209  %\n",
      "Arcade;Pretend Play :  0.011282861333634209  %\n",
      "Art & Design;Action & Adventure :  0.011282861333634209  %\n",
      "Strategy;Action & Adventure :  0.011282861333634209  %\n",
      "Music & Audio;Music & Video :  0.011282861333634209  %\n",
      "Health & Fitness;Education :  0.011282861333634209  %\n",
      "Casual;Music & Video :  0.011282861333634209  %\n",
      "Travel & Local;Action & Adventure :  0.011282861333634209  %\n",
      "Tools;Education :  0.011282861333634209  %\n",
      "Parenting;Brain Games :  0.011282861333634209  %\n",
      "Video Players & Editors;Creativity :  0.011282861333634209  %\n",
      "Health & Fitness;Action & Adventure :  0.011282861333634209  %\n",
      "Trivia;Education :  0.011282861333634209  %\n",
      "Lifestyle;Education :  0.011282861333634209  %\n",
      "Card;Action & Adventure :  0.011282861333634209  %\n",
      "Books & Reference;Education :  0.011282861333634209  %\n",
      "Simulation;Education :  0.011282861333634209  %\n",
      "Puzzle;Education :  0.011282861333634209  %\n",
      "Adventure;Education :  0.011282861333634209  %\n",
      "Role Playing;Brain Games :  0.011282861333634209  %\n",
      "Strategy;Education :  0.011282861333634209  %\n",
      "Racing;Pretend Play :  0.011282861333634209  %\n",
      "Communication;Creativity :  0.011282861333634209  %\n",
      "Strategy;Creativity :  0.011282861333634209  %\n"
     ]
    }
   ],
   "source": [
    "explore_table(frequency_table(google_data_final, 9))"
   ]
  },
  {
   "cell_type": "markdown",
   "metadata": {},
   "source": [
    "Since we don't have a clear discribtion of the difference between `Category` and `Genres` columns, we are going to only take the `Category` data into consideration since it gives us the needed information in a more defined way and similar to the Apple IOS Store data (hence; easier for comparison)."
   ]
  },
  {
   "cell_type": "markdown",
   "metadata": {},
   "source": [
    "### Frequency Table for `prime_genre` in Apple IOS Store:"
   ]
  },
  {
   "cell_type": "code",
   "execution_count": 30,
   "metadata": {},
   "outputs": [
    {
     "name": "stdout",
     "output_type": "stream",
     "text": [
      "Games :  58.13664596273293  %\n",
      "Entertainment :  7.888198757763975  %\n",
      "Photo & Video :  4.968944099378882  %\n",
      "Education :  3.6645962732919255  %\n",
      "Social Networking :  3.291925465838509  %\n",
      "Shopping :  2.608695652173913  %\n",
      "Utilities :  2.515527950310559  %\n",
      "Sports :  2.142857142857143  %\n",
      "Music :  2.049689440993789  %\n",
      "Health & Fitness :  2.018633540372671  %\n",
      "Productivity :  1.7391304347826086  %\n",
      "Lifestyle :  1.5838509316770186  %\n",
      "News :  1.3354037267080745  %\n",
      "Travel :  1.2422360248447204  %\n",
      "Finance :  1.1180124223602486  %\n",
      "Weather :  0.8695652173913043  %\n",
      "Food & Drink :  0.8074534161490683  %\n",
      "Reference :  0.5590062111801243  %\n",
      "Business :  0.5279503105590062  %\n",
      "Book :  0.43478260869565216  %\n",
      "Navigation :  0.18633540372670807  %\n",
      "Medical :  0.18633540372670807  %\n",
      "Catalogs :  0.12422360248447205  %\n"
     ]
    }
   ],
   "source": [
    "explore_table(frequency_table(apple_data_final, 12))"
   ]
  },
  {
   "cell_type": "markdown",
   "metadata": {},
   "source": [
    "## Most Used Genres\n",
    "\n",
    "Now that we know the most popular app genres that exist on both stores, we need to know the average number of user installs for each genre in order to have a more detailed idea of the app profiles that attract more users.\n",
    "\n",
    "### Most Installed Categories on Google Play Store \n",
    "\n",
    "For this we are going to take the `installs` column data into consideration(index 5), note that the data is not precise (open ended values instead) so for our analysis we are going to only use the base value as an approximation that can give us a notion of the popularity.\n",
    "\n",
    "For example: 10,000+ will be considered as 10,000\n"
   ]
  },
  {
   "cell_type": "code",
   "execution_count": 31,
   "metadata": {},
   "outputs": [
    {
     "name": "stdout",
     "output_type": "stream",
     "text": [
      "ART_AND_DESIGN  : 1986335.0877192982\n",
      "AUTO_AND_VEHICLES  : 647317.8170731707\n",
      "BEAUTY  : 513151.88679245283\n",
      "BOOKS_AND_REFERENCE  : 8767811.894736841\n",
      "BUSINESS  : 1712290.1474201474\n",
      "COMICS  : 817657.2727272727\n",
      "COMMUNICATION  : 38456119.167247385\n",
      "DATING  : 854028.8303030303\n",
      "EDUCATION  : 1833495.145631068\n",
      "ENTERTAINMENT  : 11640705.88235294\n",
      "EVENTS  : 253542.22222222222\n",
      "FINANCE  : 1387692.475609756\n",
      "FOOD_AND_DRINK  : 1924897.7363636363\n",
      "HEALTH_AND_FITNESS  : 4188821.9853479853\n",
      "HOUSE_AND_HOME  : 1331540.5616438356\n",
      "LIBRARIES_AND_DEMO  : 638503.734939759\n",
      "LIFESTYLE  : 1437816.2687861272\n",
      "GAME  : 15588015.603248259\n",
      "FAMILY  : 3697848.1731343283\n",
      "MEDICAL  : 120550.61980830671\n",
      "SOCIAL  : 23253652.127118643\n",
      "SHOPPING  : 7036877.311557789\n",
      "PHOTOGRAPHY  : 17840110.40229885\n",
      "SPORTS  : 3638640.1428571427\n",
      "TRAVEL_AND_LOCAL  : 13984077.710144928\n",
      "TOOLS  : 10801391.298666667\n",
      "PERSONALIZATION  : 5201482.6122448975\n",
      "PRODUCTIVITY  : 16787331.344927534\n",
      "PARENTING  : 542603.6206896552\n",
      "WEATHER  : 5074486.197183099\n",
      "VIDEO_PLAYERS  : 24727872.452830188\n",
      "NEWS_AND_MAGAZINES  : 9549178.467741935\n",
      "MAPS_AND_NAVIGATION  : 4056941.7741935486\n"
     ]
    }
   ],
   "source": [
    "categories = frequency_table(google_data_final, 1)\n",
    "\n",
    "for category in categories:\n",
    "    total_value = 0\n",
    "    number_of_values = 0\n",
    "    for app in google_data_final:\n",
    "        current_cat = app[1]\n",
    "        if current_cat == category:\n",
    "            installs = app[5]\n",
    "            installs = installs[:-1]\n",
    "            installs = installs.replace(',','')\n",
    "            total_value += float(installs)\n",
    "            number_of_values += 1 \n",
    "    avg_installs = total_value / number_of_values\n",
    "    print(category,' :',avg_installs)"
   ]
  },
  {
   "cell_type": "markdown",
   "metadata": {},
   "source": [
    "As we can see, the apps categoriezed as `COMMUNICATION` have the highest number of average installs, let's take a closer look at such apps."
   ]
  },
  {
   "cell_type": "code",
   "execution_count": 32,
   "metadata": {},
   "outputs": [
    {
     "name": "stdout",
     "output_type": "stream",
     "text": [
      "WhatsApp Messenger : 1,000,000,000+\n",
      "Messenger for SMS : 10,000,000+\n",
      "My Tele2 : 5,000,000+\n",
      "imo beta free calls and text : 100,000,000+\n",
      "Contacts : 50,000,000+\n",
      "Call Free – Free Call : 5,000,000+\n",
      "Web Browser & Explorer : 5,000,000+\n",
      "Browser 4G : 10,000,000+\n",
      "MegaFon Dashboard : 10,000,000+\n",
      "ZenUI Dialer & Contacts : 10,000,000+\n",
      "Cricket Visual Voicemail : 10,000,000+\n",
      "TracFone My Account : 1,000,000+\n",
      "Xperia Link™ : 10,000,000+\n",
      "TouchPal Keyboard - Fun Emoji & Android Keyboard : 10,000,000+\n",
      "Skype Lite - Free Video Call & Chat : 5,000,000+\n",
      "My magenta : 1,000,000+\n",
      "Android Messages : 100,000,000+\n",
      "Google Duo - High Quality Video Calls : 500,000,000+\n",
      "Seznam.cz : 1,000,000+\n",
      "Antillean Gold Telegram (original version) : 100,000+\n",
      "AT&T Visual Voicemail : 10,000,000+\n",
      "GMX Mail : 10,000,000+\n",
      "Omlet Chat : 10,000,000+\n",
      "My Vodacom SA : 5,000,000+\n",
      "Microsoft Edge : 5,000,000+\n",
      "Messenger – Text and Video Chat for Free : 1,000,000,000+\n",
      "imo free video calls and chat : 500,000,000+\n",
      "Calls & Text by Mo+ : 5,000,000+\n",
      "free video calls and chat : 50,000,000+\n",
      "Skype - free IM & video calls : 1,000,000,000+\n",
      "Who : 100,000,000+\n",
      "GO SMS Pro - Messenger, Free Themes, Emoji : 100,000,000+\n",
      "Messaging+ SMS, MMS Free : 1,000,000+\n",
      "chomp SMS : 10,000,000+\n",
      "Glide - Video Chat Messenger : 10,000,000+\n",
      "Text SMS : 10,000,000+\n",
      "Talkray - Free Calls & Texts : 10,000,000+\n",
      "LINE: Free Calls & Messages : 500,000,000+\n",
      "GroupMe : 10,000,000+\n",
      "mysms SMS Text Messaging Sync : 1,000,000+\n",
      "2ndLine - Second Phone Number : 1,000,000+\n",
      "Google Chrome: Fast & Secure : 1,000,000,000+\n",
      "Firefox Browser fast & private : 100,000,000+\n",
      "Ninesky Browser : 1,000,000+\n",
      "Dolphin Browser - Fast, Private & Adblock🐬 : 50,000,000+\n",
      "UC Browser - Fast Download Private & Secure : 500,000,000+\n",
      "Ghostery Privacy Browser : 1,000,000+\n",
      "InBrowser - Incognito Browsing : 1,000,000+\n",
      "Lightning Web Browser : 500,000+\n",
      "Web Browser : 500,000+\n",
      "Contacts+ : 10,000,000+\n",
      "ExDialer - Dialer & Contacts : 10,000,000+\n",
      "PHONE for Google Voice & GTalk : 1,000,000+\n",
      "Safest Call Blocker : 1,000,000+\n",
      "Full Screen Caller ID : 5,000,000+\n",
      "Hiya - Caller ID & Block : 10,000,000+\n",
      "Mr. Number-Block calls & spam : 10,000,000+\n",
      "Should I Answer? : 1,000,000+\n",
      "RocketDial Dialer & Contacts : 1,000,000+\n",
      "CIA - Caller ID & Call Blocker : 5,000,000+\n",
      "Calls Blacklist - Call Blocker : 10,000,000+\n",
      "Call Control - Call Blocker : 5,000,000+\n",
      "True Contact - Real Caller ID : 1,000,000+\n",
      "Video Caller Id : 1,000,000+\n",
      "Sync.ME – Caller ID & Block : 5,000,000+\n",
      "Burner - Free Phone Number : 1,000,000+\n",
      "Caller ID + : 1,000,000+\n",
      "Gmail : 1,000,000,000+\n",
      "K-9 Mail : 5,000,000+\n",
      "myMail – Email for Hotmail, Gmail and Outlook Mail : 10,000,000+\n",
      "Email TypeApp - Mail App : 1,000,000+\n",
      "All Email Providers : 1,000,000+\n",
      "Newton Mail - Email App for Gmail, Outlook, IMAP : 1,000,000+\n",
      "GO Notifier : 10,000,000+\n",
      "Mail.Ru - Email App : 50,000,000+\n",
      "Mail1Click - Secure Mail : 10,000+\n",
      "Daum Mail - Next Mail : 5,000,000+\n",
      "mail.com mail : 1,000,000+\n",
      "SolMail - All-in-One email app : 500,000+\n",
      "Hangouts : 1,000,000,000+\n",
      "Vonage Mobile® Call Video Text : 1,000,000+\n",
      "JusTalk - Free Video Calls and Fun Video Chat : 5,000,000+\n",
      "Azar : 50,000,000+\n",
      "LokLok: Draw on a Lock Screen : 500,000+\n",
      "Discord - Chat for Gamers : 10,000,000+\n",
      "Messenger Lite: Free Calls & Messages : 100,000,000+\n",
      "AntennaPict β : 1,000,000+\n",
      "Talkatone: Free Texts, Calls & Phone Number : 10,000,000+\n",
      "Kik : 100,000,000+\n",
      "K-@ Mail - Email App : 100,000+\n",
      "KakaoTalk: Free Calls & Text : 100,000,000+\n",
      "K-9 Material (unofficial) : 5,000+\n",
      "M star Dialer : 100,000+\n",
      "Free WiFi Connect : 10,000,000+\n",
      "m:go BiH : 10,000+\n",
      "N-Com Wizard : 50,000+\n",
      "Opera Mini - fast web browser : 100,000,000+\n",
      "Opera Browser: Fast and Secure : 100,000,000+\n",
      "Opera Mini browser beta : 10,000,000+\n",
      "Psiphon Pro - The Internet Freedom VPN : 10,000,000+\n",
      "ICQ — Video Calls & Chat Messenger : 10,000,000+\n",
      "Telegram : 100,000,000+\n",
      "AT&T Messages for Tablet : 1,000,000+\n",
      "T-Mobile DIGITS : 100,000+\n",
      "Truecaller: Caller ID, SMS spam blocking & Dialer : 100,000,000+\n",
      "Portable Wi-Fi hotspot : 10,000,000+\n",
      "AT&T Call Protect : 5,000,000+\n",
      "U - Webinars, Meetings & Messenger : 500,000+\n",
      "UC Browser Mini -Tiny Fast Private & Secure : 100,000,000+\n",
      "/u/app : 10,000+\n",
      "[verify-U] VideoIdent : 10,000+\n",
      "Viber Messenger : 500,000,000+\n",
      "WeChat : 100,000,000+\n",
      "WhatsApp Business : 10,000,000+\n",
      "WhatsCall Free Global Phone Call App & Cheap Calls : 10,000,000+\n",
      "X Browser : 50,000+\n",
      "Yahoo Mail – Stay Organized : 100,000,000+\n",
      "Free Adblocker Browser - Adblock & Popup Blocker : 10,000,000+\n",
      "Adblock Browser for Android : 10,000,000+\n",
      "CM Browser - Ad Blocker , Fast Download , Privacy : 50,000,000+\n",
      "Adblock Plus for Samsung Internet - Browse safe. : 1,000,000+\n",
      "Ad Blocker Turbo - Adblocker Browser : 10,000+\n",
      "Brave Browser: Fast AdBlocker : 5,000,000+\n",
      "AG Contacts, Lite edition : 5,000+\n",
      "Oklahoma Ag Co-op Council : 10+\n",
      "Bee'ah Employee App : 100+\n",
      "tournaments and more.aj.2 : 100+\n",
      "Aj.Petra : 100+\n",
      "AK Phone : 5,000+\n",
      "PlacarTv Futebol Ao Vivo : 100,000+\n",
      "WiFi Access Point (hotspot) : 100,000+\n",
      "Access Point Names : 10,000+\n",
      "Puffin Web Browser : 10,000,000+\n",
      "ClanHQ : 10,000+\n",
      "Ear Agent: Super Hearing : 5,000,000+\n",
      "Google Voice : 10,000,000+\n",
      "Google Allo : 10,000,000+\n",
      "AU Call Blocker - Block Unwanted Calls Texts 2018 : 1,000+\n",
      "Baby Monitor AV : 100,000+\n",
      "AV Phone : 1,000+\n",
      "AW - free video calls and chat : 1,000,000+\n",
      "Katalogen.ax : 100+\n",
      "AZ Browser. Private & Download : 100,000+\n",
      "BA SALES : 1+\n",
      "BD Data Plan (3G & 4G) : 500,000+\n",
      "BD Internet Packages (Updated) : 50,000+\n",
      "BD Dialer : 10,000+\n",
      "BD Live Call : 5,000+\n",
      "Best Browser BD social networking : 10+\n",
      "Traffic signs BD : 500+\n",
      "BF Browser by Betfilter - Stop Gambling Today! : 10,000+\n",
      "My BF App : 50,000+\n",
      "BH Mail : 1,000+\n",
      "Zalo – Video Call : 50,000,000+\n",
      "BJ - Confidential : 10+\n",
      "BK Chat : 1,000+\n",
      "Of the wall Arapaho bk : 5+\n",
      "AC-BL : 50+\n",
      "BBM - Free Calls & Messages : 100,000,000+\n",
      "DMR BrandMeister Tool : 10,000+\n",
      "BBMoji - Your personalized BBM Stickers : 1,000,000+\n",
      "BN MALLORCA Radio : 1,000+\n",
      "BQ Partners : 1,000+\n",
      "BS-Mobile : 50+\n",
      "ATC Unico BS : 500+\n",
      "BT One Voice mobile access : 5,000+\n",
      "BT Messenger : 50,000+\n",
      "BT One Phone Mobile App : 10,000+\n",
      "SW-100.tch by Callstel : 1,000,000+\n",
      "BT MeetMe with Dolby Voice : 100,000+\n",
      "Bluetooth Auto Connect : 5,000,000+\n",
      "AudioBT: BT audio GPS/SMS/Text : 50,000+\n",
      "BV : 100+\n",
      "Feel Performer : 10,000+\n",
      "Tiny Call Confirm : 1,000,000+\n",
      "CB Radio Chat - for friends! : 1,000,000+\n",
      "CB On Mobile : 100,000+\n",
      "Virtual Walkie Talkie : 1,000,000+\n",
      "Channel 19 : 100,000+\n",
      "Cb browser : 50+\n",
      "CF Chat: Connecting Friends : 100+\n",
      "retteMi.ch : 5,000+\n",
      "Chrome Dev : 5,000,000+\n",
      "CJ Browser - Fast & Private : 100+\n",
      "CJ DVD Rentals : 100+\n",
      "CK Call NEW : 10+\n",
      "CM Transfer - Share any files with friends nearby : 5,000,000+\n",
      "mail.co.uk Mail : 5,000+\n",
      "ClanPlay: Community and Tools for Gamers : 1,000,000+\n",
      "CQ-Mobile : 1,000+\n",
      "CQ-Alert : 500+\n",
      "QRZ Assistant : 100,000+\n",
      "Pocket Prefix Plus : 10,000+\n",
      "Ham Radio Prefixes : 10,000+\n",
      "CS Customizer : 1,000+\n",
      "CS Browser | #1 & BEST BROWSER : 1,000+\n",
      "CS Browser Beta : 5,000+\n",
      "My Vodafone (GR) : 1,000,000+\n",
      "IZ2UUF Morse Koch CW : 50,000+\n",
      "C W Browser : 100+\n",
      "CW Bluetooth SPP : 100+\n",
      "CW BLE Peripheral Simulator : 500+\n",
      "Morse Code Reader : 100,000+\n",
      "Learn Morse Code - G0HYN Learn Morse : 5,000+\n",
      "Ring : 10,000+\n",
      "Hyundai CX Conference : 50+\n",
      "Cy Messenger : 100+\n",
      "Amadeus GR & CY : 100+\n",
      "Hlášenírozhlasu.cz : 10+\n",
      "SMS Sender - sluzba.cz : 1,000+\n",
      "WEB.DE Mail : 10,000,000+\n",
      "Your Freedom VPN Client : 5,000,000+\n",
      "CallApp: Caller ID, Blocker & Phone Call Recorder : 10,000,000+\n",
      "Rádio Sol Nascente DF : 500+\n",
      "DG Card : 100+\n",
      "Whoscall - Caller ID & Block : 10,000,000+\n",
      "DK Browser : 10+\n",
      "cluster.dk : 1,000+\n",
      "DK TEL Dialer : 50+\n",
      "DM for WhatsApp : 5,000+\n",
      "DM Talk New : 5,000+\n",
      "DM - The Offical Messaging App : 10+\n",
      "DM Tracker : 1,000+\n",
      "Call Blocker & Blacklist : 1,000+\n",
      "ReadyOp DT : 1,000+\n",
      "DU Browser—Browse fast & fun : 10,000,000+\n",
      "Caller ID & Call Block - DU Caller : 5,000,000+\n",
      "BlueDV AMBE : 1,000+\n",
      "DW Contacts & Phone & Dialer : 1,000,000+\n",
      "Deaf World DW : 10,000+\n",
      "Ham DX Cluster & Spots Finder : 5,000+\n",
      "Mircules DX Cluster Lite : 5,000+\n",
      "3G DZ Configuration : 50,000+\n",
      "chat dz : 100+\n",
      "love sms good morning : 5,000+\n",
      "Goodbox - Mega App : 100,000+\n",
      "Call Blocker - Blacklist, SMS Blocker : 1,000,000+\n",
      "[EF]ShoutBox : 100+\n",
      "Eg Call : 10,000+\n",
      "ei : 10+\n",
      "EJ messenger : 10+\n",
      "Ek IRA : 10+\n",
      "Orfox: Tor Browser for Android : 10,000,000+\n",
      "EO Mumbai : 10+\n",
      "EP RSS Reader : 100+\n",
      "Voxer Walkie Talkie Messenger : 10,000,000+\n",
      "ES-1 : 500+\n",
      "Hangouts Dialer - Call Phones : 10,000,000+\n",
      "EU Council : 1,000+\n",
      "Council Voting Calculator : 5,000+\n",
      "Have your say on Europe : 500+\n",
      "Programi podrške EU : 100+\n",
      "Inbox.eu : 10,000+\n",
      "Web Browser for Android : 1,000,000+\n",
      "Everbridge : 100,000+\n",
      "Best Auto Call Recorder Free : 500+\n",
      "EZ Wifi Notification : 10,000+\n",
      "Test Server SMS FA : 5+\n",
      "Lite for Facebook Messenger : 1,000,000+\n",
      "FC Browser - Focus Privacy Browser : 1,000+\n",
      "EHiN-FH conferenceapp : 100+\n",
      "Carpooling FH Hagenberg : 100+\n",
      "Wi-Fi Auto-connect : 1,000,000+\n",
      "Talkie - Wi-Fi Calling, Chats, File Sharing : 500,000+\n",
      "WeFi - Free Fast WiFi Connect & Find Wi-Fi Map : 1,000,000+\n",
      "Sat-Fi : 5,000+\n",
      "Portable Wi-Fi hotspot Free : 100,000+\n",
      "TownWiFi | Wi-Fi Everywhere : 500,000+\n",
      "Jazz Wi-Fi : 10,000+\n",
      "Sat-Fi Voice : 1,000+\n",
      "Free Wi-fi HotspoT : 50,000+\n",
      "FN Web Radio : 10+\n",
      "FNH Payment Info : 10+\n",
      "MARKET FO : 100+\n",
      "FO OP St-Nazaire : 100+\n",
      "FO SODEXO : 100+\n",
      "FO RCBT : 100+\n",
      "FO Interim : 100+\n",
      "FO PSA Sept-Fons : 100+\n",
      "FO AIRBUS TLSE : 1,000+\n",
      "FO STELIA Méaulte : 100+\n",
      "FO AIRBUS Nantes : 100+\n",
      "Firefox Focus: The privacy browser : 1,000,000+\n",
      "FP Connect : 100+\n",
      "FreedomPop Messaging Phone/SIM : 500,000+\n",
      "FP Live : 10+\n",
      "HipChat - beta version : 50,000+\n"
     ]
    }
   ],
   "source": [
    "for app in google_data_final:\n",
    "    if app[1] == \"COMMUNICATION\":\n",
    "        print(app[0] , ':', app[5])"
   ]
  },
  {
   "cell_type": "markdown",
   "metadata": {},
   "source": [
    "We can see that some apps have a significantly higher values than others, next we only print the apps with installs equal to 1,000,000,000+ or 500,000,000+"
   ]
  },
  {
   "cell_type": "code",
   "execution_count": 33,
   "metadata": {},
   "outputs": [
    {
     "name": "stdout",
     "output_type": "stream",
     "text": [
      "WhatsApp Messenger : 1,000,000,000+\n",
      "Google Duo - High Quality Video Calls : 500,000,000+\n",
      "Messenger – Text and Video Chat for Free : 1,000,000,000+\n",
      "imo free video calls and chat : 500,000,000+\n",
      "Skype - free IM & video calls : 1,000,000,000+\n",
      "LINE: Free Calls & Messages : 500,000,000+\n",
      "Google Chrome: Fast & Secure : 1,000,000,000+\n",
      "UC Browser - Fast Download Private & Secure : 500,000,000+\n",
      "Gmail : 1,000,000,000+\n",
      "Hangouts : 1,000,000,000+\n",
      "Viber Messenger : 500,000,000+\n"
     ]
    }
   ],
   "source": [
    "for app in google_data_final:\n",
    "    if app[1] == \"COMMUNICATION\" and (app[5]== \"1,000,000,000+\" or app[5]== \"500,000,000+\"):\n",
    "        print(app[0] , ':', app[5])"
   ]
  },
  {
   "cell_type": "markdown",
   "metadata": {},
   "source": [
    "As we can see, this category is dominated by some apps such as WhatsApp and Messenger which are the reason for the high value of the average installs.\n",
    "\n",
    "In this case we need to find the next best category since this one is already saturated.\n",
    "\n",
    "Next we investigate the apps in the `VIDEO_PLAYERS` category."
   ]
  },
  {
   "cell_type": "code",
   "execution_count": 34,
   "metadata": {},
   "outputs": [
    {
     "name": "stdout",
     "output_type": "stream",
     "text": [
      "YouTube : 1,000,000,000+\n",
      "All Video Downloader 2018 : 1,000,000+\n",
      "Video Downloader : 10,000,000+\n",
      "HD Video Player : 1,000,000+\n",
      "Iqiyi (for tablet) : 1,000,000+\n",
      "Video Player All Format : 10,000,000+\n",
      "Motorola Gallery : 100,000,000+\n",
      "Free TV series : 100,000+\n",
      "Video Player All Format for Android : 500,000+\n",
      "VLC for Android : 100,000,000+\n",
      "Code : 10,000,000+\n",
      "Vote for : 50,000,000+\n",
      "XX HD Video downloader-Free Video Downloader : 1,000,000+\n",
      "OBJECTIVE : 1,000,000+\n",
      "Music - Mp3 Player : 10,000,000+\n",
      "HD Movie Video Player : 1,000,000+\n",
      "YouCut - Video Editor & Video Maker, No Watermark : 5,000,000+\n",
      "Video Editor,Crop Video,Movie Video,Music,Effects : 1,000,000+\n",
      "YouTube Studio : 10,000,000+\n",
      "video player for android : 10,000,000+\n",
      "Vigo Video : 50,000,000+\n",
      "Google Play Movies & TV : 1,000,000,000+\n",
      "HTC Service － DLNA : 10,000,000+\n",
      "VPlayer : 1,000,000+\n",
      "MiniMovie - Free Video and Slideshow Editor : 50,000,000+\n",
      "Samsung Video Library : 50,000,000+\n",
      "OnePlus Gallery : 1,000,000+\n",
      "LIKE – Magic Video Maker & Community : 50,000,000+\n",
      "HTC Service—Video Player : 5,000,000+\n",
      "Play Tube : 1,000,000+\n",
      "Droid Zap by Motorola : 5,000,000+\n",
      "video player : 1,000,000+\n",
      "G Guide Program Guide (SOFTBANK EMOBILE WILLCOM version) : 1,000,000+\n",
      "Video.Guru - Video Maker : 1,000,000+\n",
      "HTC Gallery : 10,000,000+\n",
      "PowerDirector Video Editor App: 4K, Slow Mo & More : 10,000,000+\n",
      "Cartoon Network App : 10,000,000+\n",
      "Video Status : 1,000,000+\n",
      "Video Wallpaper Show : 500+\n",
      "SVT Play : 1,000,000+\n",
      "BluTV : 1,000,000+\n",
      "Tencent Video - Supporting the whole network : 1,000,000+\n",
      "Casper Ssinema : 10,000+\n",
      "amazer - Global Kpop Video Community : 100,000+\n",
      "MX Player : 500,000,000+\n",
      "Video Editor : 5,000,000+\n",
      "Omlet Arcade - Stream, Meet, Play : 10,000,000+\n",
      "VUE: video editor & camcorder : 1,000,000+\n",
      "Magisto Video Editor & Maker : 10,000,000+\n",
      "Dubsmash : 100,000,000+\n",
      "DU Recorder – Screen Recorder, Video Editor, Live : 50,000,000+\n",
      "KineMaster – Pro Video Editor : 50,000,000+\n",
      "Mobizen Screen Recorder for SAMSUNG : 10,000,000+\n",
      "Mobizen Screen Recorder for LG - Record, Capture : 1,000,000+\n",
      "M-Sight Pro : 5,000+\n",
      "Sketch 'n' go : 100,000+\n",
      "Q-See Plus : 5,000+\n",
      "Ustream : 10,000,000+\n",
      "VMate : 50,000,000+\n",
      "All Video Downloader : 10,000,000+\n",
      "VidPlay : 1,000,000+\n",
      "HD Video Downloader : 2018 Best video mate : 50,000,000+\n",
      "VivaVideo - Video Editor & Photo Movie : 100,000,000+\n",
      "VideoShow-Video Editor, Video Maker, Beauty Camera : 100,000,000+\n",
      "W Box VMS : 10,000+\n",
      "W Box VMS HD : 5,000+\n",
      "AB Repeat Player : 100,000+\n",
      "A-B repeater : 5,000+\n",
      "Ez Screen Recorder (no ad) : 100,000+\n",
      "Adobe Premiere Clip : 5,000,000+\n",
      "FilmoraGo - Free Video Editor : 10,000,000+\n",
      "ActionDirector Video Editor - Edit Videos Fast : 5,000,000+\n",
      "AJ Player : 100+\n",
      "AK Lodi Films : 100+\n",
      "WiFi Baby Monitor - NannyCam : 5,000,000+\n",
      "Ringdroid : 50,000,000+\n",
      "Multiple Videos at Same Time : 1,000,000+\n",
      "AV-IPTV : 1,000+\n",
      "HD Video Player (wmv,avi,mp4,flv,av,mpg,mkv)2017 : 10,000+\n",
      "HD Video Player - Video & MP3 Player | AV Player | : 5,000+\n",
      "EML UPnP-AV Control Point : 10,000+\n",
      "AW Screen Recorder No Root : 100,000+\n",
      "AX Player -Nougat Video Player : 1,000,000+\n",
      "AX Video Player : 50,000+\n",
      "Ay : 5,000+\n",
      "Ay Sabz Gunbad Waly : 1,000+\n",
      "iMediaShare – Photos & Music : 10,000,000+\n",
      "AZ Screen Recorder - No Root : 10,000,000+\n",
      "Movie Downloader Torrent : Az Torrent : 1,000+\n",
      "A-Z Screen Recorder - : 500+\n",
      "BC iptv player : 1,000+\n",
      "Bc Vod : 100+\n",
      "Funny videos for whatsapp : 1,000,000+\n",
      "BG video - floating video - background video : 5,000+\n",
      "BG MUSIC PLAYER - MUSIC PLAYER : 100+\n",
      "bgtime.tv : 50,000+\n",
      "YourTube Video Views BG : 500+\n",
      "Music for Youtube - Tube Music BG, Red+ : 1,000+\n",
      "BGCN TV : 100,000+\n",
      "AfreecaTV : 10,000,000+\n",
      "BK News Channel : 10,000+\n",
      "BR Video Player : 5,000+\n",
      "BR Series : 50,000+\n",
      "CINE BR : 1,000+\n",
      "iPlayIT for YouTube VR Player : 1,000,000+\n",
      "BSPlayer FREE : 10,000,000+\n",
      "BSPlayer ARMv7 VFP CPU support : 1,000,000+\n",
      "BS player remote : 10,000+\n",
      "BitTorrent®- Torrent Downloads : 10,000,000+\n",
      "Bx-WiFi-GI : 100+\n",
      "BZ Langenthaler Tagblatt : 1,000+\n",
      "Nero AirBurn : 100,000+\n",
      "CI Stream : 10+\n",
      "CJ Camcorder : 500+\n",
      "CJ VLC HD Remote (+ Stream) : 500,000+\n",
      "ACTIVEON CX & CX GOLD : 50,000+\n",
      "CX Monthly Tech News : 500+\n",
      "DG UPnP Player Free : 10,000+\n",
      "DG Screen Recorder : 500+\n",
      "DG Video Editor : 10,000+\n",
      "Video Downloader - for Instagram Repost App : 10,000,000+\n",
      "Quik – Free Video Editor for photos, clips, music : 10,000,000+\n",
      "FrostWire: Torrent Downloader & Music Player : 10,000,000+\n",
      "Inst Download - Video & Photo : 10,000,000+\n",
      "Vuze Torrent Downloader : 1,000,000+\n",
      "AndStream - Streaming Download : 1,000,000+\n",
      "DR TV : 500,000+\n",
      "DS photo : 1,000,000+\n",
      "DS video : 1,000,000+\n",
      "DU Privacy-hide apps、sms、file : 1,000,000+\n",
      "iSmart DV : 1,000,000+\n",
      "dv Prompter : 50,000+\n",
      "DV Lottery Photo : 5,000+\n",
      "MelifeCam-M : 10,000+\n",
      "GoPlus Cam : 500,000+\n",
      "GoAction : 100,000+\n",
      "4K VIDEO PLAYER ULTRA HD : 5,000+\n",
      "Downvids Helper - One touch DW : 10,000+\n",
      "DZ Popup Video Player : 5,000+\n",
      "EC MANAGER : 100+\n",
      "EF Sidekick : 5,000+\n",
      "ek tuhi : 10,000+\n",
      "Naruto Shippuden - Watch Free! : 10,000,000+\n",
      "ES Audio Player ( Shortcut ) : 100,000+\n",
      "Furrion ES Control : 5,000+\n",
      "ES-IPTV : 50,000+\n",
      "EZCast – Cast Media to TV : 1,000,000+\n",
      "EZ Web Video Cast | Chromecast : 100,000+\n",
      "EZ-SEE : 10,000+\n",
      "EZ TV Player : 10,000+\n",
      "EZ Usenet for Easynews® : 10,000+\n",
      "EZ game screen recorder with audio 1080P : 1,000+\n",
      "Videos downloader for Facebook:fast fb video saver : 5,000+\n",
      "Video Downloader for FB : Video Download with Link : 100,000+\n",
      "HD VideoDownlaoder For Fb : XXVideo Downloader : 10,000+\n",
      "HD Video Download for Facebook : 1,000,000+\n",
      "Art of F J Taylor : 10+\n",
      "Motorola FM Radio : 100,000,000+\n",
      "List iptv FR : 100+\n"
     ]
    }
   ],
   "source": [
    "for app in google_data_final:\n",
    "    if app[1] == \"VIDEO_PLAYERS\":\n",
    "        print(app[0] , ':', app[5])"
   ]
  },
  {
   "cell_type": "markdown",
   "metadata": {},
   "source": [
    "Similarly, we take a look at apps with the highest number of installs in this category."
   ]
  },
  {
   "cell_type": "code",
   "execution_count": 35,
   "metadata": {},
   "outputs": [
    {
     "name": "stdout",
     "output_type": "stream",
     "text": [
      "YouTube : 1,000,000,000+\n",
      "Google Play Movies & TV : 1,000,000,000+\n",
      "MX Player : 500,000,000+\n"
     ]
    }
   ],
   "source": [
    "for app in google_data_final:\n",
    "    if app[1] == \"VIDEO_PLAYERS\" and (app[5]== \"1,000,000,000+\" or app[5]== \"500,000,000+\"):\n",
    "        print(app[0] , ':', app[5])"
   ]
  },
  {
   "cell_type": "markdown",
   "metadata": {},
   "source": [
    "Again in this category, we can see that a couple of applications are the reason for the high number of average installs.\n",
    "\n",
    "Next, we look at the `BOOKS_AND_REFERENCE` category."
   ]
  },
  {
   "cell_type": "code",
   "execution_count": 36,
   "metadata": {},
   "outputs": [
    {
     "name": "stdout",
     "output_type": "stream",
     "text": [
      "Google Play Books : 1,000,000,000+\n"
     ]
    }
   ],
   "source": [
    "for app in google_data_final:\n",
    "    if app[1] == \"BOOKS_AND_REFERENCE\" and (app[5]== \"1,000,000,000+\" or app[5]== \"500,000,000+\"):\n",
    "        print(app[0] , ':', app[5])"
   ]
  },
  {
   "cell_type": "markdown",
   "metadata": {},
   "source": [
    "For the `BOOKS_AND_REFERENCE` category we can see that the high value of average totall installs is not siginficantly biased or affected by certain values compared to `COMMUNICATION` and `VIDEO_PLAYERS` categories.\n",
    "\n",
    "This shows a good potential in this category."
   ]
  },
  {
   "cell_type": "markdown",
   "metadata": {},
   "source": [
    "## Most Reviewed Apps on Apple IOS Store\n",
    "\n",
    "For this part, we can use the information in the `rating_count_tot` column to give us an idea of which apps are more used because unlike the Google Play Store data, we don't have information about the number of installs.\n",
    "\n",
    "Following we calculate the average number of totall rating for apps in each genre."
   ]
  },
  {
   "cell_type": "code",
   "execution_count": 37,
   "metadata": {},
   "outputs": [
    {
     "name": "stdout",
     "output_type": "stream",
     "text": [
      "Productivity :  21028.410714285714\n",
      "Weather :  52279.892857142855\n",
      "Shopping :  26919.690476190477\n",
      "Reference :  74942.11111111111\n",
      "Finance :  31467.944444444445\n",
      "Music :  57326.530303030304\n",
      "Utilities :  18684.456790123455\n",
      "Travel :  28243.8\n",
      "Social Networking :  71548.34905660378\n",
      "Sports :  23008.898550724636\n",
      "Health & Fitness :  23298.015384615384\n",
      "Games :  22812.92467948718\n",
      "Food & Drink :  33333.92307692308\n",
      "News :  21248.023255813954\n",
      "Book :  39758.5\n",
      "Photo & Video :  28441.54375\n",
      "Entertainment :  14029.830708661417\n",
      "Business :  7491.117647058823\n",
      "Lifestyle :  16485.764705882353\n",
      "Education :  7003.983050847458\n",
      "Navigation :  86090.33333333333\n",
      "Medical :  612.0\n",
      "Catalogs :  4004.0\n"
     ]
    }
   ],
   "source": [
    "genres = frequency_table(apple_data_final, 12)\n",
    "\n",
    "for genre in genres:\n",
    "    total_ratings = 0\n",
    "    number_of_ratings = 0\n",
    "    for row in apple_data_final:\n",
    "        if (row[12] == genre):\n",
    "            total_ratings += float(row[6])\n",
    "            number_of_ratings += 1\n",
    "    avg_tot_ratings = total_ratings / number_of_ratings\n",
    "    print(genre,\": \",avg_tot_ratings)\n",
    "    "
   ]
  },
  {
   "cell_type": "markdown",
   "metadata": {},
   "source": [
    "Let's check the apps in `Reference` genre since it have a high totall ratings average.\""
   ]
  },
  {
   "cell_type": "code",
   "execution_count": 38,
   "metadata": {},
   "outputs": [
    {
     "name": "stdout",
     "output_type": "stream",
     "text": [
      "Bible :  985920\n",
      "Dictionary.com Dictionary & Thesaurus :  200047\n",
      "Dictionary.com Dictionary & Thesaurus for iPad :  54175\n",
      "Muslim Pro: Ramadan 2017 Prayer Times, Azan, Quran :  18418\n",
      "Merriam-Webster Dictionary :  16849\n",
      "Google Translate :  26786\n",
      "Night Sky :  12122\n",
      "WWDC :  762\n",
      "Jishokun-Japanese English Dictionary & Translator :  0\n",
      "教えて!goo :  0\n",
      "VPN Express :  14\n",
      "New Furniture Mods - Pocket Wiki & Game Tools for Minecraft PC Edition :  17588\n",
      "LUCKY BLOCK MOD ™ for Minecraft PC Edition - The Best Pocket Wiki & Mods Installer Tools :  4693\n",
      "Guides for Pokémon GO - Pokemon GO News and Cheats :  826\n",
      "Horror Maps for Minecraft PE - Download The Scariest Maps for Minecraft Pocket Edition (MCPE) Free :  718\n",
      "City Maps for Minecraft PE - The Best Maps for Minecraft Pocket Edition (MCPE) :  8535\n",
      "GUNS MODS for Minecraft PC Edition - Mods Tools :  1497\n",
      "Real Bike Traffic Rider Virtual Reality Glasses :  8\n"
     ]
    }
   ],
   "source": [
    "for app in apple_data_final:\n",
    "    if app[12] == \"Reference\":\n",
    "        print(app[2],': ', app[6])\n",
    "     "
   ]
  },
  {
   "cell_type": "markdown",
   "metadata": {},
   "source": [
    "Now, checking `Book` genre."
   ]
  },
  {
   "cell_type": "code",
   "execution_count": 39,
   "metadata": {},
   "outputs": [
    {
     "name": "stdout",
     "output_type": "stream",
     "text": [
      "Kindle – Read eBooks, Magazines & Textbooks :  252076\n",
      "OverDrive – Library eBooks and Audiobooks :  65450\n",
      "Audible – audio books, original series & podcasts :  105274\n",
      "BookShout: Read eBooks & Track Your Reading Goals :  879\n",
      "ikouhoushi :  0\n",
      "Dr. Seuss Treasury — 50 best kids books :  451\n",
      "Weirdwood Manor :  197\n",
      "Green Riding Hood :  392\n",
      "HOOKED - Chat Stories :  47829\n",
      "Color Therapy Adult Coloring Book for Adults :  84062\n",
      "MangaTiara - love comic reader :  0\n",
      "MangaZERO - comic reader :  9\n",
      "謎解き2016 :  0\n",
      "謎解き :  0\n"
     ]
    }
   ],
   "source": [
    "for app in apple_data_final:\n",
    "    if app[12] == \"Book\":\n",
    "        print(app[2],': ', app[6])\n",
    "     "
   ]
  },
  {
   "cell_type": "markdown",
   "metadata": {},
   "source": [
    "From the data, we can see a similar potenial to what we found in the Google Play Store."
   ]
  },
  {
   "cell_type": "markdown",
   "metadata": {},
   "source": [
    "# Conclusion\n",
    "\n",
    "The aim of this project was to analyze the data for both the Google Play Store and Apple IOS Store in order to determine the free english apps that attract the highest number of users and still show a good potential for both stores.\n",
    "\n",
    "We can conclude that apps in the Books genre or category can have a high potenial of attracting users due to having indications of high average number of users (installs or totall ratings) in our datasets without being biased due to specific apps."
   ]
  },
  {
   "cell_type": "code",
   "execution_count": null,
   "metadata": {},
   "outputs": [],
   "source": []
  }
 ],
 "metadata": {
  "kernelspec": {
   "display_name": "Python 3",
   "language": "python",
   "name": "python3"
  },
  "language_info": {
   "codemirror_mode": {
    "name": "ipython",
    "version": 3
   },
   "file_extension": ".py",
   "mimetype": "text/x-python",
   "name": "python",
   "nbconvert_exporter": "python",
   "pygments_lexer": "ipython3",
   "version": "3.7.6"
  }
 },
 "nbformat": 4,
 "nbformat_minor": 4
}
